{
 "cells": [
  {
   "cell_type": "code",
   "execution_count": 2,
   "id": "03b00f0b-9309-40a7-b8f1-e0eab293b69f",
   "metadata": {},
   "outputs": [],
   "source": [
    "using SymPy\n",
    "using LinearAlgebra"
   ]
  },
  {
   "cell_type": "code",
   "execution_count": 3,
   "id": "40de179e-a7d3-4015-b394-fcd3197fc64b",
   "metadata": {},
   "outputs": [
    {
     "data": {
      "text/plain": [
       "(γ1, γ2, γ3, γ4, γ5, c1, α, τ, σ, ξ, ζ, tau, sigma)"
      ]
     },
     "execution_count": 3,
     "metadata": {},
     "output_type": "execute_result"
    }
   ],
   "source": [
    "@vars γ1 γ2 γ3 γ4 γ5 c1 α τ σ ξ ζ tau sigma"
   ]
  },
  {
   "cell_type": "code",
   "execution_count": 4,
   "id": "69b4351e-b196-494e-acfc-89639ba327ea",
   "metadata": {},
   "outputs": [
    {
     "data": {
      "text/latex": [
       "$\\left[ \\begin{array}{r}c_{1}\\\\\\frac{1}{2}\\\\1 - c_{1}\\end{array} \\right]$\n"
      ],
      "text/plain": [
       "3-element Vector{Sym}:\n",
       "     c₁\n",
       "    1/2\n",
       " 1 - c₁"
      ]
     },
     "execution_count": 4,
     "metadata": {},
     "output_type": "execute_result"
    }
   ],
   "source": [
    "c = [c1,1//2,1-c1]"
   ]
  },
  {
   "cell_type": "code",
   "execution_count": 5,
   "id": "25b9b0af-25bf-40d0-9506-40265c45b240",
   "metadata": {},
   "outputs": [
    {
     "data": {
      "text/latex": [
       "$\\left[ \\begin{array}{rrr}α + 4&- 6 α - 6&6 α\\\\- 6 α - 6&36 α + 12&- 36 α\\\\6 α&- 36 α&36 α\\end{array}\\right]$\n"
      ],
      "text/plain": [
       "3×3 Matrix{Sym}:\n",
       "    α + 4   -6⋅α - 6    6⋅α\n",
       " -6⋅α - 6  36⋅α + 12  -36⋅α\n",
       "      6⋅α      -36⋅α   36⋅α"
      ]
     },
     "execution_count": 5,
     "metadata": {},
     "output_type": "execute_result"
    }
   ],
   "source": [
    "M =  [α+4 -6*α-6 6*α; -6*α - 6 36*α+12 -36*α; 6*α -36*α 36*α]"
   ]
  },
  {
   "cell_type": "code",
   "execution_count": 6,
   "id": "b01c9be9-26de-490e-af7c-a2e609ac78ec",
   "metadata": {},
   "outputs": [
    {
     "data": {
      "text/latex": [
       "$\\left[ \\begin{array}{rrr}α - 2 γ_{1} - 2 γ_{2} - 8 γ_{3} - 7 γ_{4} + 4 - \\frac{1}{3 \\left(2 c_{1} - 1\\right)^{2}}&- 6 α + 6 γ_{1} + 4 γ_{2} + 18 γ_{3} + 18 γ_{4} - 6&6 α - 6 γ_{1} - 6 γ_{3} - 9 γ_{4}\\\\- 6 α + 6 γ_{1} + 4 γ_{2} + 18 γ_{3} + 18 γ_{4} - 6&36 α - 8 γ_{2} - 24 γ_{3} - 36 γ_{4} + 12&- 36 α + 18 γ_{4}\\\\6 α - 6 γ_{1} - 6 γ_{3} - 9 γ_{4}&- 36 α + 18 γ_{4}&36 α - 18 γ_{4}\\end{array}\\right]$\n"
      ],
      "text/plain": [
       "3×3 Matrix{Sym}:\n",
       " α - 2*γ1 - 2*γ2 - 8*γ3 - 7*γ4 + 4 - 1/(3*(2*c1 - 1)^2)  …  6⋅α - 6⋅γ₁ - 6⋅γ₃ - 9⋅γ₄\n",
       "                 -6⋅α + 6⋅γ₁ + 4⋅γ₂ + 18⋅γ₃ + 18⋅γ₄ - 6                -36⋅α + 18⋅γ₄\n",
       "                               6⋅α - 6⋅γ₁ - 6⋅γ₃ - 9⋅γ₄                 36⋅α - 18⋅γ₄"
      ]
     },
     "execution_count": 6,
     "metadata": {},
     "output_type": "execute_result"
    }
   ],
   "source": [
    "# M3 = [a b c;b d e;c e f]\n",
    "M3 = [1/(6*(2*c1-1)^2) + 1/(2*c1-1) -1/(2*c1-1) 0 ;-1/(2*c1-1) 0 0; 0 0 0] + γ1*[1 -3 3;-3 0 0;3 0 0] + γ2*[1 -2 0;-2 4 0;0 0 0] + γ3*[3 -5 0;-5 0 6;0 6 0] + γ4*[2 -3 0;-3 0 0;0 0 9]\n",
    "P = [1 1 1; 0 -1 -2; 0 0 1]\n",
    "M1 = P * M3 * P'\n",
    "M2 = M - M1 - M3"
   ]
  },
  {
   "cell_type": "code",
   "execution_count": 7,
   "id": "a97f4736-4316-40e5-8556-d9556ab36110",
   "metadata": {},
   "outputs": [
    {
     "data": {
      "text/plain": [
       "B (generic function with 2 methods)"
      ]
     },
     "execution_count": 7,
     "metadata": {},
     "output_type": "execute_result"
    }
   ],
   "source": [
    "function B(i,tau)\n",
    "    if i == 1\n",
    "        return dot([1; 1//2; 1//3], M1 * [1;tau;tau^2])\n",
    "    elseif i == 2\n",
    "        return dot([1; 1//2; 1//3], M2 * [1;tau;tau^2])\n",
    "    elseif i == 3\n",
    "        return dot([1; 1//2; 1//3], M3 * [1;tau;tau^2])\n",
    "    end\n",
    "end\n",
    "B(tau) = B(1,tau) + B(2,tau) + B(3,tau)"
   ]
  },
  {
   "cell_type": "code",
   "execution_count": 8,
   "id": "089dbef9-6209-4779-a19d-ae1a20e98886",
   "metadata": {},
   "outputs": [
    {
     "data": {
      "text/plain": [
       "A (generic function with 2 methods)"
      ]
     },
     "execution_count": 8,
     "metadata": {},
     "output_type": "execute_result"
    }
   ],
   "source": [
    "function A(i,tau,j,sigma)\n",
    "    if j == 1\n",
    "        # return dot([tau; tau^2//2; tau^3//3], M1 * [1;sigma;sigma^2])\n",
    "        # tmp = [tau tau^2//2 tau^3//3] * M1 * [1;sigma;sigma^2]\n",
    "        return only([tau tau^2//2 tau^3//3] * M1 * [1;sigma;sigma^2])\n",
    "    elseif j == 2\n",
    "        # return dot([tau; tau^2//2; tau^3//3], M2 * [1;sigma;sigma^2])\n",
    "        # tmp = [tau tau^2//2 tau^3//3] * M2 * [1;sigma;sigma^2]\n",
    "        # return tmp[1]\n",
    "        return only([tau tau^2//2 tau^3//3] * M2 * [1;sigma;sigma^2])\n",
    "    elseif j == 3\n",
    "        # return dot([tau; tau^2//2; tau^3//3], M3 * [1;sigma;sigma^2])\n",
    "        # tmp = [tau tau^2//2 tau^3//3] * M3 * [1;sigma;sigma^2]\n",
    "        # return tmp[1]\n",
    "        return only([tau tau^2//2 tau^3//3] * M3 * [1;sigma;sigma^2])\n",
    "    end\n",
    "end\n",
    "# A(tau,sigma) = dot([tau; tau^2//2; tau^3//3], M * [1;sigma;sigma^2])\n",
    "A(tau,sigma) = [tau tau^2//2 tau^3//3] * M * [1;sigma;sigma^2]"
   ]
  },
  {
   "cell_type": "code",
   "execution_count": 9,
   "id": "b0fb5304-e49e-46e2-828c-92a7ec196a52",
   "metadata": {},
   "outputs": [
    {
     "data": {
      "text/plain": [
       "C (generic function with 1 method)"
      ]
     },
     "execution_count": 9,
     "metadata": {},
     "output_type": "execute_result"
    }
   ],
   "source": [
    "function C(i,tau)\n",
    "    # return integrate(A(tau,sigma),(sigma,0,1))\n",
    "    return tau\n",
    "end\n",
    "# # C(tau) = tau"
   ]
  },
  {
   "cell_type": "code",
   "execution_count": 10,
   "id": "5b6550e3-de6b-47d9-9211-8b7d6645e201",
   "metadata": {},
   "outputs": [
    {
     "data": {
      "text/plain": [
       "3-element Vector{Int64}:\n",
       " 1\n",
       " 2\n",
       " 3"
      ]
     },
     "execution_count": 10,
     "metadata": {},
     "output_type": "execute_result"
    }
   ],
   "source": [
    "idxset = [1,2,3] "
   ]
  },
  {
   "cell_type": "markdown",
   "id": "d80667a9-65e5-41fa-a6aa-ee4381fc98cb",
   "metadata": {},
   "source": [
    "## 1st order"
   ]
  },
  {
   "cell_type": "code",
   "execution_count": 11,
   "id": "5dd0b869-80ae-4ca3-82ff-7586c4a7208f",
   "metadata": {},
   "outputs": [
    {
     "data": {
      "text/latex": [
       "$1$"
      ],
      "text/plain": [
       "1"
      ]
     },
     "execution_count": 11,
     "metadata": {},
     "output_type": "execute_result"
    }
   ],
   "source": [
    "integrate(B(τ),(τ,0,1))"
   ]
  },
  {
   "cell_type": "markdown",
   "id": "c3fbc985-301d-4a22-92b3-b7593e5c9489",
   "metadata": {},
   "source": [
    "## 2nd order"
   ]
  },
  {
   "cell_type": "code",
   "execution_count": 12,
   "id": "f9f53b6c-61e5-4a5f-926d-382d556fc7f6",
   "metadata": {},
   "outputs": [
    {
     "data": {
      "text/latex": [
       "$\\frac{1}{2}$"
      ],
      "text/plain": [
       "1/2"
      ]
     },
     "execution_count": 12,
     "metadata": {},
     "output_type": "execute_result"
    }
   ],
   "source": [
    "integrate(sum(B(i,τ)*C(i,τ) for i in idxset),(τ,0,1))"
   ]
  },
  {
   "cell_type": "markdown",
   "id": "63c2ca65-07ff-43c7-b0f7-0cdd153cad29",
   "metadata": {},
   "source": [
    "## 3rd order"
   ]
  },
  {
   "cell_type": "code",
   "execution_count": 13,
   "id": "29c25f31-593c-47ef-a78a-70e60f4c1b4e",
   "metadata": {},
   "outputs": [
    {
     "data": {
      "text/latex": [
       "$\\frac{1}{3}$"
      ],
      "text/plain": [
       "1/3"
      ]
     },
     "execution_count": 13,
     "metadata": {},
     "output_type": "execute_result"
    }
   ],
   "source": [
    "integrate(sum(B(i,τ)*C(i,τ)^2 for i in idxset),(τ,0,1))"
   ]
  },
  {
   "cell_type": "code",
   "execution_count": 14,
   "id": "4c8d7b84-eebc-48fe-9393-3e08957d240e",
   "metadata": {},
   "outputs": [
    {
     "data": {
      "text/latex": [
       "$\\frac{1}{3}$"
      ],
      "text/plain": [
       "1/3"
      ]
     },
     "execution_count": 14,
     "metadata": {},
     "output_type": "execute_result"
    }
   ],
   "source": [
    "integrate(sum(B(i,τ)*C(i,τ)*c[i] for i in idxset),(τ,0,1))"
   ]
  },
  {
   "cell_type": "code",
   "execution_count": 15,
   "id": "d149a8ad-c3c1-4a6b-813a-d3b6e546b7c3",
   "metadata": {},
   "outputs": [
    {
     "data": {
      "text/latex": [
       "$\\frac{1}{3}$"
      ],
      "text/plain": [
       "1/3"
      ]
     },
     "execution_count": 15,
     "metadata": {},
     "output_type": "execute_result"
    }
   ],
   "source": [
    "integrate(sum(B(i,τ)*c[i]^2 for i in idxset),(τ,0,1))"
   ]
  },
  {
   "cell_type": "code",
   "execution_count": 16,
   "id": "8c02b0de-d5ea-4cd9-bba4-65866d228d77",
   "metadata": {},
   "outputs": [
    {
     "data": {
      "text/latex": [
       "$\\frac{1}{6}$"
      ],
      "text/plain": [
       "1/6"
      ]
     },
     "execution_count": 16,
     "metadata": {},
     "output_type": "execute_result"
    }
   ],
   "source": [
    "integrate(integrate(sum(sum(B(i,τ)*A(i,τ,j,σ)*C(j,σ) for i in idxset) for j in idxset),(τ,0,1)),(σ,0,1))"
   ]
  },
  {
   "cell_type": "code",
   "execution_count": 17,
   "id": "c3421fa9-45a3-4e3a-ae62-36cf9d78c4df",
   "metadata": {},
   "outputs": [
    {
     "data": {
      "text/latex": [
       "$\\frac{1}{6}$"
      ],
      "text/plain": [
       "1/6"
      ]
     },
     "execution_count": 17,
     "metadata": {},
     "output_type": "execute_result"
    }
   ],
   "source": [
    "integrate(integrate(sum(sum(B(i,τ)*A(i,τ,j,σ)*c[j] for i in idxset) for j in idxset),(τ,0,1)),(σ,0,1))"
   ]
  },
  {
   "cell_type": "code",
   "execution_count": 18,
   "id": "69a700f1-2d73-4f79-bed6-996ebfc8e3cf",
   "metadata": {},
   "outputs": [
    {
     "data": {
      "text/latex": [
       "$\\frac{1}{6}$"
      ],
      "text/plain": [
       "1/6"
      ]
     },
     "execution_count": 18,
     "metadata": {},
     "output_type": "execute_result"
    }
   ],
   "source": [
    "integrate(integrate(sum(sum(B(i,τ)*A(i,c[i],j,σ)*C(j,σ) for i in idxset) for j in idxset),(τ,0,1)),(σ,0,1))"
   ]
  },
  {
   "cell_type": "code",
   "execution_count": 19,
   "id": "98ede3c8-42f9-434f-b2fe-4191d6d7cf7a",
   "metadata": {},
   "outputs": [
    {
     "data": {
      "text/latex": [
       "$\\frac{1}{6}$"
      ],
      "text/plain": [
       "1/6"
      ]
     },
     "execution_count": 19,
     "metadata": {},
     "output_type": "execute_result"
    }
   ],
   "source": [
    "integrate(integrate(sum(sum(B(i,τ)*A(i,c[i],j,σ)*c[j] for i in idxset) for j in idxset),(τ,0,1)),(σ,0,1))"
   ]
  },
  {
   "cell_type": "markdown",
   "id": "40655022-7ba1-403f-b062-86500f4d4596",
   "metadata": {},
   "source": [
    "## 4th order"
   ]
  },
  {
   "cell_type": "markdown",
   "id": "53d6e3e2-12de-41dd-901a-02e9f6b7ae13",
   "metadata": {},
   "source": [
    "### 4-1"
   ]
  },
  {
   "cell_type": "code",
   "execution_count": 20,
   "id": "09b1f9bd-1bc3-4a51-b1f5-0f278d4b1f49",
   "metadata": {},
   "outputs": [
    {
     "data": {
      "text/latex": [
       "$\\frac{1}{4}$"
      ],
      "text/plain": [
       "1/4"
      ]
     },
     "execution_count": 20,
     "metadata": {},
     "output_type": "execute_result"
    }
   ],
   "source": [
    "integrate(sum(B(i,τ)*C(i,τ)^3 for i in idxset),(τ,0,1))"
   ]
  },
  {
   "cell_type": "code",
   "execution_count": 21,
   "id": "884b5d4b-f5a7-433f-a2c9-bbc2fb55220e",
   "metadata": {},
   "outputs": [
    {
     "data": {
      "text/latex": [
       "$\\frac{1}{4}$"
      ],
      "text/plain": [
       "1/4"
      ]
     },
     "execution_count": 21,
     "metadata": {},
     "output_type": "execute_result"
    }
   ],
   "source": [
    "integrate(sum(B(i,τ)*C(i,τ)^2*c[i] for i in idxset),(τ,0,1))"
   ]
  },
  {
   "cell_type": "code",
   "execution_count": 22,
   "id": "cea4c4fc-c84d-4e35-9395-018163676b86",
   "metadata": {},
   "outputs": [
    {
     "data": {
      "text/latex": [
       "$\\frac{1}{4}$"
      ],
      "text/plain": [
       "1/4"
      ]
     },
     "execution_count": 22,
     "metadata": {},
     "output_type": "execute_result"
    }
   ],
   "source": [
    "integrate(sum(B(i,τ)*C(i,τ)*c[i]^2 for i in idxset),(τ,0,1))"
   ]
  },
  {
   "cell_type": "code",
   "execution_count": 23,
   "id": "d6e6d0f3-34a8-4c00-9bf8-eca2e94f652c",
   "metadata": {},
   "outputs": [
    {
     "data": {
      "text/latex": [
       "$\\frac{1}{4}$"
      ],
      "text/plain": [
       "1/4"
      ]
     },
     "execution_count": 23,
     "metadata": {},
     "output_type": "execute_result"
    }
   ],
   "source": [
    "integrate(sum(B(i,τ)*c[i]^3 for i in idxset),(τ,0,1))"
   ]
  },
  {
   "cell_type": "markdown",
   "id": "9085c929-b076-4eb1-9636-1f6d776cbe14",
   "metadata": {},
   "source": [
    "### 4-2-0"
   ]
  },
  {
   "cell_type": "code",
   "execution_count": 24,
   "id": "2b7d9702-d034-454c-ad8f-2f1912ec34c4",
   "metadata": {},
   "outputs": [
    {
     "data": {
      "text/latex": [
       "$\\frac{1}{8}$"
      ],
      "text/plain": [
       "1/8"
      ]
     },
     "execution_count": 24,
     "metadata": {},
     "output_type": "execute_result"
    }
   ],
   "source": [
    "integrate(integrate(sum(sum(B(i,τ)*C(i,τ)*A(i,τ,j,σ)*C(j,σ) for i in idxset) for j in idxset),(τ,0,1)),(σ,0,1))"
   ]
  },
  {
   "cell_type": "markdown",
   "id": "3a47c293-43df-4c88-845e-fb3f2e4e182d",
   "metadata": {},
   "source": [
    "### 4-2-1"
   ]
  },
  {
   "cell_type": "code",
   "execution_count": 25,
   "id": "6d271d5f-9c67-4499-9736-5675fb89a56b",
   "metadata": {},
   "outputs": [
    {
     "data": {
      "text/latex": [
       "$\\frac{1}{8}$"
      ],
      "text/plain": [
       "1/8"
      ]
     },
     "execution_count": 25,
     "metadata": {},
     "output_type": "execute_result"
    }
   ],
   "source": [
    "integrate(integrate(sum(sum(B(i,τ)*c[i]*A(i,τ,j,σ)*C(j,σ) for i in idxset) for j in idxset),(τ,0,1)),(σ,0,1))"
   ]
  },
  {
   "cell_type": "code",
   "execution_count": 26,
   "id": "d3ca918b-77f1-40d5-8f84-27251937b684",
   "metadata": {},
   "outputs": [
    {
     "data": {
      "text/latex": [
       "$\\frac{1}{8}$"
      ],
      "text/plain": [
       "1/8"
      ]
     },
     "execution_count": 26,
     "metadata": {},
     "output_type": "execute_result"
    }
   ],
   "source": [
    "integrate(integrate(sum(sum(B(i,τ)*C(i,τ)*A(i,c[i],j,σ)*C(j,σ) for i in idxset) for j in idxset),(τ,0,1)),(σ,0,1))"
   ]
  },
  {
   "cell_type": "code",
   "execution_count": 27,
   "id": "7a19b2c5-009a-4102-a794-d1c4b12e461f",
   "metadata": {},
   "outputs": [
    {
     "data": {
      "text/latex": [
       "$\\frac{1}{8}$"
      ],
      "text/plain": [
       "1/8"
      ]
     },
     "execution_count": 27,
     "metadata": {},
     "output_type": "execute_result"
    }
   ],
   "source": [
    "integrate(integrate(sum(sum(B(i,τ)*C(i,τ)*A(i,τ,j,σ)*c[j] for i in idxset) for j in idxset),(τ,0,1)),(σ,0,1))"
   ]
  },
  {
   "cell_type": "markdown",
   "id": "7f775879-edfd-4db1-bd97-9f92ea992e96",
   "metadata": {},
   "source": [
    "### 4-2-2"
   ]
  },
  {
   "cell_type": "code",
   "execution_count": 28,
   "id": "9d4ff7d2-c3c3-4aac-aa0f-681718e12c12",
   "metadata": {},
   "outputs": [
    {
     "data": {
      "text/latex": [
       "$\\frac{1}{8}$"
      ],
      "text/plain": [
       "1/8"
      ]
     },
     "execution_count": 28,
     "metadata": {},
     "output_type": "execute_result"
    }
   ],
   "source": [
    "integrate(integrate(sum(sum(B(i,τ)*c[i]*A(i,c[i],j,σ)*C(j,σ) for i in idxset) for j in idxset),(τ,0,1)),(σ,0,1))"
   ]
  },
  {
   "cell_type": "code",
   "execution_count": 29,
   "id": "135ffaf5-2927-424e-82a1-822e1c416242",
   "metadata": {},
   "outputs": [
    {
     "data": {
      "text/latex": [
       "$\\frac{1}{8}$"
      ],
      "text/plain": [
       "1/8"
      ]
     },
     "execution_count": 29,
     "metadata": {},
     "output_type": "execute_result"
    }
   ],
   "source": [
    "integrate(integrate(sum(sum(B(i,τ)*c[i]*A(i,τ,j,σ)*c[j] for i in idxset) for j in idxset),(τ,0,1)),(σ,0,1))"
   ]
  },
  {
   "cell_type": "code",
   "execution_count": 30,
   "id": "a1b6b59b-f374-443c-a5d7-baf72d61e7bc",
   "metadata": {},
   "outputs": [
    {
     "data": {
      "text/latex": [
       "$\\frac{1}{8}$"
      ],
      "text/plain": [
       "1/8"
      ]
     },
     "execution_count": 30,
     "metadata": {},
     "output_type": "execute_result"
    }
   ],
   "source": [
    "integrate(integrate(sum(sum(B(i,τ)*C(i,τ)*A(i,c[i],j,σ)*c[j] for i in idxset) for j in idxset),(τ,0,1)),(σ,0,1))"
   ]
  },
  {
   "cell_type": "markdown",
   "id": "4f310850-c349-43b7-af24-8e29bc4dec47",
   "metadata": {},
   "source": [
    "### 4-2-3"
   ]
  },
  {
   "cell_type": "code",
   "execution_count": 31,
   "id": "72de0ed1-7bf0-4b9d-83a2-ce40143270eb",
   "metadata": {},
   "outputs": [
    {
     "data": {
      "text/latex": [
       "$\\frac{1}{8}$"
      ],
      "text/plain": [
       "1/8"
      ]
     },
     "execution_count": 31,
     "metadata": {},
     "output_type": "execute_result"
    }
   ],
   "source": [
    "integrate(integrate(sum(sum(B(i,τ)*c[i]*A(i,c[i],j,σ)*c[j] for i in idxset) for j in idxset),(τ,0,1)),(σ,0,1))"
   ]
  },
  {
   "cell_type": "markdown",
   "id": "0eb7f5f2-4a5c-4849-95e5-e35868c2483e",
   "metadata": {},
   "source": [
    "### 4-3-0"
   ]
  },
  {
   "cell_type": "code",
   "execution_count": 32,
   "id": "0a863668-2a80-4f14-9030-059bea8c066d",
   "metadata": {},
   "outputs": [
    {
     "data": {
      "text/latex": [
       "$\\frac{1}{12}$"
      ],
      "text/plain": [
       "1/12"
      ]
     },
     "execution_count": 32,
     "metadata": {},
     "output_type": "execute_result"
    }
   ],
   "source": [
    "integrate(integrate(sum(sum(B(i,τ)*A(i,τ,j,σ)*C(j,σ)^2 for i in idxset) for j in idxset),(τ,0,1)),(σ,0,1))"
   ]
  },
  {
   "cell_type": "markdown",
   "id": "a0edf466-4ab1-415d-abe3-fe97deb92d7d",
   "metadata": {},
   "source": [
    "### 4-3-1"
   ]
  },
  {
   "cell_type": "code",
   "execution_count": 33,
   "id": "37a960f9-1ef8-4847-ba61-44c22e659446",
   "metadata": {},
   "outputs": [
    {
     "data": {
      "text/latex": [
       "$\\frac{1}{12}$"
      ],
      "text/plain": [
       "1/12"
      ]
     },
     "execution_count": 33,
     "metadata": {},
     "output_type": "execute_result"
    }
   ],
   "source": [
    "integrate(integrate(sum(sum(B(i,τ)*A(i,c[i],j,σ)*C(j,σ)^2 for i in idxset) for j in idxset),(τ,0,1)),(σ,0,1))"
   ]
  },
  {
   "cell_type": "code",
   "execution_count": 34,
   "id": "1de019b3-321b-446e-a23e-0eb730a2b139",
   "metadata": {},
   "outputs": [
    {
     "data": {
      "text/latex": [
       "$\\frac{1}{12}$"
      ],
      "text/plain": [
       "1/12"
      ]
     },
     "execution_count": 34,
     "metadata": {},
     "output_type": "execute_result"
    }
   ],
   "source": [
    "integrate(integrate(sum(sum(B(i,τ)*A(i,τ,j,σ)*C(j,σ)*c[j] for i in idxset) for j in idxset),(τ,0,1)),(σ,0,1))"
   ]
  },
  {
   "cell_type": "markdown",
   "id": "3f1c9425-8e63-40dc-9fb9-a434457483d4",
   "metadata": {},
   "source": [
    "### 4-3-2"
   ]
  },
  {
   "cell_type": "code",
   "execution_count": 35,
   "id": "5e1c74f4-d240-4025-959a-d7225ea1d5d6",
   "metadata": {},
   "outputs": [
    {
     "data": {
      "text/latex": [
       "$\\frac{1}{12}$"
      ],
      "text/plain": [
       "1/12"
      ]
     },
     "execution_count": 35,
     "metadata": {},
     "output_type": "execute_result"
    }
   ],
   "source": [
    "integrate(integrate(sum(sum(B(i,τ)*A(i,c[i],j,σ)*C(j,σ)*c[j] for i in idxset) for j in idxset),(τ,0,1)),(σ,0,1))"
   ]
  },
  {
   "cell_type": "code",
   "execution_count": 36,
   "id": "5dd12b05-c280-477f-8f0e-7ed9c862e4c0",
   "metadata": {},
   "outputs": [
    {
     "data": {
      "text/latex": [
       "$\\frac{1}{12}$"
      ],
      "text/plain": [
       "1/12"
      ]
     },
     "execution_count": 36,
     "metadata": {},
     "output_type": "execute_result"
    }
   ],
   "source": [
    "integrate(integrate(sum(sum(B(i,τ)*A(i,τ,j,σ)*c[j]^2 for i in idxset) for j in idxset),(τ,0,1)),(σ,0,1))"
   ]
  },
  {
   "cell_type": "markdown",
   "id": "79466963-c81b-4b33-b4c3-cfcfa6961f6d",
   "metadata": {},
   "source": [
    "### 4-3-3"
   ]
  },
  {
   "cell_type": "code",
   "execution_count": 37,
   "id": "8a90ff20-abdb-48ac-b826-8d3c275c40db",
   "metadata": {},
   "outputs": [
    {
     "data": {
      "text/latex": [
       "$\\frac{1}{12}$"
      ],
      "text/plain": [
       "1/12"
      ]
     },
     "execution_count": 37,
     "metadata": {},
     "output_type": "execute_result"
    }
   ],
   "source": [
    "integrate(integrate(sum(sum(B(i,τ)*A(i,c[i],j,σ)*c[j]^2 for i in idxset) for j in idxset),(τ,0,1)),(σ,0,1))"
   ]
  },
  {
   "cell_type": "markdown",
   "id": "351dcba2-70a6-4366-821c-433cc99023b5",
   "metadata": {},
   "source": [
    "### 4-4-0"
   ]
  },
  {
   "cell_type": "code",
   "execution_count": 38,
   "id": "a7c4cd7e-6b21-4cdb-910b-e26c168b296a",
   "metadata": {},
   "outputs": [
    {
     "data": {
      "text/latex": [
       "$\\frac{1}{24}$"
      ],
      "text/plain": [
       "1/24"
      ]
     },
     "execution_count": 38,
     "metadata": {},
     "output_type": "execute_result"
    }
   ],
   "source": [
    "integrate(integrate(integrate(sum(sum(sum(B(i,τ)*A(i,τ,j,σ)*A(j,σ,k,ξ)*C(k,ξ) for i in idxset) for j in idxset) for k in idxset),(τ,0,1)),(σ,0,1)),(ξ,0,1))"
   ]
  },
  {
   "cell_type": "markdown",
   "id": "6357ffa0-789e-40f0-8fea-7559dadeb3f7",
   "metadata": {},
   "source": [
    "### 4-4-1"
   ]
  },
  {
   "cell_type": "code",
   "execution_count": 39,
   "id": "ec74bcc7-8f9d-4788-a632-e6aa26a50ece",
   "metadata": {},
   "outputs": [
    {
     "data": {
      "text/latex": [
       "$\\frac{1}{24}$"
      ],
      "text/plain": [
       "1/24"
      ]
     },
     "execution_count": 39,
     "metadata": {},
     "output_type": "execute_result"
    }
   ],
   "source": [
    "integrate(integrate(integrate(sum(sum(sum(B(i,τ)*A(i,c[i],j,σ)*A(j,σ,k,ξ)*C(k,ξ) for i in idxset) for j in idxset) for k in idxset),(τ,0,1)),(σ,0,1)),(ξ,0,1))"
   ]
  },
  {
   "cell_type": "code",
   "execution_count": 40,
   "id": "7315932a-e91e-4d83-81ed-e7d61db62b2d",
   "metadata": {},
   "outputs": [
    {
     "data": {
      "text/latex": [
       "$\\frac{1}{24}$"
      ],
      "text/plain": [
       "1/24"
      ]
     },
     "execution_count": 40,
     "metadata": {},
     "output_type": "execute_result"
    }
   ],
   "source": [
    "integrate(integrate(integrate(sum(sum(sum(B(i,τ)*A(i,τ,j,σ)*A(j,c[j],k,ξ)*C(k,ξ) for i in idxset) for j in idxset) for k in idxset),(τ,0,1)),(σ,0,1)),(ξ,0,1))"
   ]
  },
  {
   "cell_type": "code",
   "execution_count": 41,
   "id": "add0c667-92fc-42e1-930f-16e22c8503b6",
   "metadata": {},
   "outputs": [
    {
     "data": {
      "text/latex": [
       "$\\frac{1}{24}$"
      ],
      "text/plain": [
       "1/24"
      ]
     },
     "execution_count": 41,
     "metadata": {},
     "output_type": "execute_result"
    }
   ],
   "source": [
    "integrate(integrate(integrate(sum(sum(sum(B(i,τ)*A(i,τ,j,σ)*A(j,σ,k,ξ)*c[k] for i in idxset) for j in idxset) for k in idxset),(τ,0,1)),(σ,0,1)),(ξ,0,1))"
   ]
  },
  {
   "cell_type": "markdown",
   "id": "b615b9a5-0578-4626-8bd7-60bb6bb42650",
   "metadata": {},
   "source": [
    "### 4-4-2"
   ]
  },
  {
   "cell_type": "code",
   "execution_count": 42,
   "id": "54945b07-3cb7-44bd-bd37-fa102f618fd3",
   "metadata": {},
   "outputs": [
    {
     "data": {
      "text/latex": [
       "$\\frac{1}{24}$"
      ],
      "text/plain": [
       "1/24"
      ]
     },
     "execution_count": 42,
     "metadata": {},
     "output_type": "execute_result"
    }
   ],
   "source": [
    "integrate(integrate(integrate(sum(sum(sum(B(i,τ)*A(i,c[i],j,σ)*A(j,c[j],k,ξ)*C(k,ξ) for i in idxset) for j in idxset) for k in idxset),(τ,0,1)),(σ,0,1)),(ξ,0,1))"
   ]
  },
  {
   "cell_type": "code",
   "execution_count": 43,
   "id": "d7a2c263-7c6d-4f99-bd22-d5e0b9893582",
   "metadata": {},
   "outputs": [
    {
     "data": {
      "text/latex": [
       "$\\frac{1}{24}$"
      ],
      "text/plain": [
       "1/24"
      ]
     },
     "execution_count": 43,
     "metadata": {},
     "output_type": "execute_result"
    }
   ],
   "source": [
    "integrate(integrate(integrate(sum(sum(sum(B(i,τ)*A(i,τ,j,σ)*A(j,c[j],k,ξ)*c[k] for i in idxset) for j in idxset) for k in idxset),(τ,0,1)),(σ,0,1)),(ξ,0,1))"
   ]
  },
  {
   "cell_type": "code",
   "execution_count": 44,
   "id": "7fef7828-2610-4b21-93f1-30d7ab548711",
   "metadata": {},
   "outputs": [
    {
     "data": {
      "text/latex": [
       "$\\frac{1}{24}$"
      ],
      "text/plain": [
       "1/24"
      ]
     },
     "execution_count": 44,
     "metadata": {},
     "output_type": "execute_result"
    }
   ],
   "source": [
    "integrate(integrate(integrate(sum(sum(sum(B(i,τ)*A(i,c[i],j,σ)*A(j,σ,k,ξ)*c[k] for i in idxset) for j in idxset) for k in idxset),(τ,0,1)),(σ,0,1)),(ξ,0,1))"
   ]
  },
  {
   "cell_type": "markdown",
   "id": "e5bb96a5-610a-43a5-a9b9-de7730cd6624",
   "metadata": {},
   "source": [
    "### 4-4-3"
   ]
  },
  {
   "cell_type": "code",
   "execution_count": 45,
   "id": "d232ecab-18b1-41fe-bc87-15e487fb1e50",
   "metadata": {},
   "outputs": [
    {
     "data": {
      "text/latex": [
       "$\\frac{1}{24}$"
      ],
      "text/plain": [
       "1/24"
      ]
     },
     "execution_count": 45,
     "metadata": {},
     "output_type": "execute_result"
    }
   ],
   "source": [
    "integrate(integrate(integrate(sum(sum(sum(B(i,τ)*A(i,c[i],j,σ)*A(j,c[j],k,ξ)*c[k] for i in idxset) for j in idxset) for k in idxset),(τ,0,1)),(σ,0,1)),(ξ,0,1))"
   ]
  },
  {
   "cell_type": "markdown",
   "id": "21d779fc-3a2c-487f-9703-4fe139013368",
   "metadata": {},
   "source": [
    "## 5th order"
   ]
  },
  {
   "cell_type": "markdown",
   "id": "b3d7bc5d-e033-41e7-b07b-454fdf9c71eb",
   "metadata": {},
   "source": [
    "### 5-1 (Table A.2)"
   ]
  },
  {
   "cell_type": "code",
   "execution_count": 46,
   "id": "46a1060e-7a36-4524-984c-7af9b00b6456",
   "metadata": {},
   "outputs": [
    {
     "data": {
      "text/latex": [
       "$\\frac{1}{5}$"
      ],
      "text/plain": [
       "1/5"
      ]
     },
     "execution_count": 46,
     "metadata": {},
     "output_type": "execute_result"
    }
   ],
   "source": [
    "integrate(sum(B(i,τ)*C(i,τ)^4 for i in idxset),(τ,0,1))"
   ]
  },
  {
   "cell_type": "code",
   "execution_count": 47,
   "id": "ef2ccb25-117d-4544-b0a3-4d269638c688",
   "metadata": {},
   "outputs": [
    {
     "data": {
      "text/latex": [
       "$\\frac{1}{5}$"
      ],
      "text/plain": [
       "1/5"
      ]
     },
     "execution_count": 47,
     "metadata": {},
     "output_type": "execute_result"
    }
   ],
   "source": [
    "# integrate(B1(τ)*C(τ)^3*c1 + B2(τ)*C(τ)^3*c2,(τ,0,1))\n",
    "integrate(sum(B(i,τ)*C(i,τ)^3*c[i] for i in idxset),(τ,0,1))"
   ]
  },
  {
   "cell_type": "code",
   "execution_count": 48,
   "id": "cc4f6279-bd2d-4731-9b13-1b304881d6ba",
   "metadata": {},
   "outputs": [
    {
     "data": {
      "text/latex": [
       "$\\frac{c_{1}^{2} γ_{1}}{30} + \\frac{c_{1}^{2} γ_{3}}{30} + \\frac{c_{1}^{2} γ_{4}}{30} - \\frac{c_{1} γ_{1}}{30} - \\frac{c_{1} γ_{3}}{30} - \\frac{c_{1} γ_{4}}{30} + \\frac{γ_{1}}{120} + \\frac{γ_{3}}{120} + \\frac{γ_{4}}{120} + \\frac{7}{36}$"
      ],
      "text/plain": [
       "  2        2        2                                                  \n",
       "c₁ ⋅γ₁   c₁ ⋅γ₃   c₁ ⋅γ₄   c₁⋅γ₁   c₁⋅γ₃   c₁⋅γ₄    γ₁    γ₃    γ₄   7 \n",
       "────── + ────── + ────── - ───── - ───── - ───── + ─── + ─── + ─── + ──\n",
       "  30       30       30       30      30      30    120   120   120   36"
      ]
     },
     "execution_count": 48,
     "metadata": {},
     "output_type": "execute_result"
    }
   ],
   "source": [
    "# integrate(B1(τ)*C(τ)^2*c1^2 + B2(τ)*C(τ)^2*c2^2,(τ,0,1))\n",
    "integrate(sum(B(i,τ)*C(i,τ)^2*c[i]^2 for i in idxset),(τ,0,1))"
   ]
  },
  {
   "cell_type": "code",
   "execution_count": 49,
   "id": "3c2779b8-447d-4516-811f-ed91a1390a63",
   "metadata": {},
   "outputs": [
    {
     "data": {
      "text/latex": [
       "$\\frac{c_{1}^{2}}{12} - \\frac{c_{1}}{12} + \\frac{5}{24}$"
      ],
      "text/plain": [
       "  2          \n",
       "c₁    c₁   5 \n",
       "─── - ── + ──\n",
       " 12   12   24"
      ]
     },
     "execution_count": 49,
     "metadata": {},
     "output_type": "execute_result"
    }
   ],
   "source": [
    "# integrate(B1(τ)*C(τ)*c1^3 + B2(τ)*C(τ)^2*c2^3,(τ,0,1))\n",
    "integrate(sum(B(i,τ)*C(i,τ)*c[i]^3 for i in idxset),(τ,0,1))"
   ]
  },
  {
   "cell_type": "code",
   "execution_count": 50,
   "id": "26223593-301a-4f90-963c-a56f3ed76058",
   "metadata": {},
   "outputs": [
    {
     "data": {
      "text/latex": [
       "$\\frac{c_{1}^{2}}{12} - \\frac{c_{1}}{12} + \\frac{5}{24}$"
      ],
      "text/plain": [
       "  2          \n",
       "c₁    c₁   5 \n",
       "─── - ── + ──\n",
       " 12   12   24"
      ]
     },
     "execution_count": 50,
     "metadata": {},
     "output_type": "execute_result"
    }
   ],
   "source": [
    "# integrate(B1(τ)*c1^4 + B2(τ)*C(τ)*c2^4,(τ,0,1))\n",
    "integrate(sum(B(i,τ)*c[i]^4 for i in idxset),(τ,0,1))"
   ]
  },
  {
   "cell_type": "markdown",
   "id": "a9cd0593-36b7-4c8d-83f8-7358fab3be43",
   "metadata": {},
   "source": [
    "### 5-2 (Table A.3)"
   ]
  },
  {
   "cell_type": "code",
   "execution_count": 51,
   "id": "81ef37b1-a36d-47fc-bece-0f97af8c0506",
   "metadata": {},
   "outputs": [
    {
     "data": {
      "text/latex": [
       "$\\frac{1}{10}$"
      ],
      "text/plain": [
       "1/10"
      ]
     },
     "execution_count": 51,
     "metadata": {},
     "output_type": "execute_result"
    }
   ],
   "source": [
    "integrate(integrate(sum(sum(B(i,τ)*C(i,τ)^2*A(i,τ,j,σ)*C(j,σ) for i in idxset) for j in idxset),(τ,0,1)),(σ,0,1))"
   ]
  },
  {
   "cell_type": "markdown",
   "id": "26bd4955-9e66-441d-af0c-0d77eb551860",
   "metadata": {},
   "source": [
    "#### 5-2-1"
   ]
  },
  {
   "cell_type": "code",
   "execution_count": 52,
   "id": "23a80e7d-cdb5-4127-aad0-acfe74e0def7",
   "metadata": {},
   "outputs": [
    {
     "data": {
      "text/latex": [
       "$\\frac{1}{10}$"
      ],
      "text/plain": [
       "1/10"
      ]
     },
     "execution_count": 52,
     "metadata": {},
     "output_type": "execute_result"
    }
   ],
   "source": [
    "integrate(integrate(sum(sum(B(i,τ)*c[i]*C(i,τ)*A(i,τ,j,σ)*C(j,σ) for i in idxset) for j in idxset),(τ,0,1)),(σ,0,1))"
   ]
  },
  {
   "cell_type": "code",
   "execution_count": 53,
   "id": "0d0ea552-dc78-4dd4-a410-a55ca35caeaa",
   "metadata": {},
   "outputs": [
    {
     "data": {
      "text/latex": [
       "$\\frac{c_{1}^{2} γ_{1}}{60} + \\frac{c_{1}^{2} γ_{3}}{60} + \\frac{c_{1}^{2} γ_{4}}{60} - \\frac{c_{1} γ_{1}}{60} - \\frac{c_{1} γ_{3}}{60} - \\frac{c_{1} γ_{4}}{60} + \\frac{γ_{1}}{240} + \\frac{γ_{3}}{240} + \\frac{γ_{4}}{240} + \\frac{7}{72}$"
      ],
      "text/plain": [
       "  2        2        2                                                  \n",
       "c₁ ⋅γ₁   c₁ ⋅γ₃   c₁ ⋅γ₄   c₁⋅γ₁   c₁⋅γ₃   c₁⋅γ₄    γ₁    γ₃    γ₄   7 \n",
       "────── + ────── + ────── - ───── - ───── - ───── + ─── + ─── + ─── + ──\n",
       "  60       60       60       60      60      60    240   240   240   72"
      ]
     },
     "execution_count": 53,
     "metadata": {},
     "output_type": "execute_result"
    }
   ],
   "source": [
    "integrate(integrate(sum(sum(B(i,τ)*C(i,τ)^2*A(i,c[i],j,σ)*C(j,σ) for i in idxset) for j in idxset),(τ,0,1)),(σ,0,1))"
   ]
  },
  {
   "cell_type": "code",
   "execution_count": 54,
   "id": "a4049195-cd7b-44a1-8371-de9128327139",
   "metadata": {},
   "outputs": [
    {
     "data": {
      "text/latex": [
       "$\\frac{1}{10}$"
      ],
      "text/plain": [
       "1/10"
      ]
     },
     "execution_count": 54,
     "metadata": {},
     "output_type": "execute_result"
    }
   ],
   "source": [
    "integrate(integrate(sum(sum(B(i,τ)*C(i,τ)^2*A(i,τ,j,σ)*c[j] for i in idxset) for j in idxset),(τ,0,1)),(σ,0,1))"
   ]
  },
  {
   "cell_type": "markdown",
   "id": "46b72b22-ce33-49a5-9a66-85bbe7810614",
   "metadata": {},
   "source": [
    "#### 5-2-2"
   ]
  },
  {
   "cell_type": "code",
   "execution_count": 55,
   "id": "9632b29c-5343-48f0-b2b1-b7b302b9c722",
   "metadata": {},
   "outputs": [
    {
     "data": {
      "text/latex": [
       "$\\frac{c_{1}^{2} γ_{1}}{60} + \\frac{c_{1}^{2} γ_{3}}{60} + \\frac{c_{1}^{2} γ_{4}}{60} - \\frac{c_{1} γ_{1}}{60} - \\frac{c_{1} γ_{3}}{60} - \\frac{c_{1} γ_{4}}{60} + \\frac{γ_{1}}{240} + \\frac{γ_{3}}{240} + \\frac{γ_{4}}{240} + \\frac{7}{72}$"
      ],
      "text/plain": [
       "  2        2        2                                                  \n",
       "c₁ ⋅γ₁   c₁ ⋅γ₃   c₁ ⋅γ₄   c₁⋅γ₁   c₁⋅γ₃   c₁⋅γ₄    γ₁    γ₃    γ₄   7 \n",
       "────── + ────── + ────── - ───── - ───── - ───── + ─── + ─── + ─── + ──\n",
       "  60       60       60       60      60      60    240   240   240   72"
      ]
     },
     "execution_count": 55,
     "metadata": {},
     "output_type": "execute_result"
    }
   ],
   "source": [
    "integrate(integrate(sum(sum(B(i,τ)*c[i]^2*A(i,τ,j,σ)*C(j,σ) for i in idxset) for j in idxset),(τ,0,1)),(σ,0,1))"
   ]
  },
  {
   "cell_type": "code",
   "execution_count": 56,
   "id": "d8fcc114-de26-46b1-b448-7d6ae9f1b3e5",
   "metadata": {},
   "outputs": [
    {
     "data": {
      "text/latex": [
       "$\\frac{c_{1}^{2}}{24} - \\frac{c_{1}}{24} + \\frac{5}{48}$"
      ],
      "text/plain": [
       "  2          \n",
       "c₁    c₁   5 \n",
       "─── - ── + ──\n",
       " 24   24   48"
      ]
     },
     "execution_count": 56,
     "metadata": {},
     "output_type": "execute_result"
    }
   ],
   "source": [
    "integrate(integrate(sum(sum(B(i,τ)*C(i,τ)*c[i]*A(i,c[i],j,σ)*C(j,σ) for i in idxset) for j in idxset),(τ,0,1)),(σ,0,1))"
   ]
  },
  {
   "cell_type": "code",
   "execution_count": 57,
   "id": "d7d9453a-c2ac-46e7-bdc8-a64715e39cdb",
   "metadata": {},
   "outputs": [
    {
     "data": {
      "text/latex": [
       "$\\frac{1}{10}$"
      ],
      "text/plain": [
       "1/10"
      ]
     },
     "execution_count": 57,
     "metadata": {},
     "output_type": "execute_result"
    }
   ],
   "source": [
    "integrate(integrate(sum(sum(B(i,τ)*C(i,τ)*c[i]A(i,τ,j,σ)*c[j] for i in idxset) for j in idxset),(τ,0,1)),(σ,0,1))"
   ]
  },
  {
   "cell_type": "code",
   "execution_count": 58,
   "id": "c40a4c2a-f207-4c68-bc62-b3f5e32734af",
   "metadata": {},
   "outputs": [
    {
     "data": {
      "text/latex": [
       "$\\frac{c_{1}^{2} γ_{1}}{60} + \\frac{c_{1}^{2} γ_{3}}{60} + \\frac{c_{1}^{2} γ_{4}}{60} - \\frac{c_{1} γ_{1}}{60} - \\frac{c_{1} γ_{3}}{60} - \\frac{c_{1} γ_{4}}{60} + \\frac{γ_{1}}{240} + \\frac{γ_{3}}{240} + \\frac{γ_{4}}{240} + \\frac{7}{72}$"
      ],
      "text/plain": [
       "  2        2        2                                                  \n",
       "c₁ ⋅γ₁   c₁ ⋅γ₃   c₁ ⋅γ₄   c₁⋅γ₁   c₁⋅γ₃   c₁⋅γ₄    γ₁    γ₃    γ₄   7 \n",
       "────── + ────── + ────── - ───── - ───── - ───── + ─── + ─── + ─── + ──\n",
       "  60       60       60       60      60      60    240   240   240   72"
      ]
     },
     "execution_count": 58,
     "metadata": {},
     "output_type": "execute_result"
    }
   ],
   "source": [
    "integrate(integrate(sum(sum(B(i,τ)*C(i,τ)^2*A(i,c[i],j,σ)*c[j] for i in idxset) for j in idxset),(τ,0,1)),(σ,0,1))"
   ]
  },
  {
   "cell_type": "markdown",
   "id": "5176c980-6b5f-4751-9810-d80dc144fb12",
   "metadata": {},
   "source": [
    "#### 5-2-3"
   ]
  },
  {
   "cell_type": "code",
   "execution_count": 59,
   "id": "7c6f2b37-73d9-41d3-b4b1-3999138b500f",
   "metadata": {},
   "outputs": [
    {
     "data": {
      "text/latex": [
       "$\\frac{c_{1}^{2}}{24} - \\frac{c_{1}}{24} + \\frac{5}{48}$"
      ],
      "text/plain": [
       "  2          \n",
       "c₁    c₁   5 \n",
       "─── - ── + ──\n",
       " 24   24   48"
      ]
     },
     "execution_count": 59,
     "metadata": {},
     "output_type": "execute_result"
    }
   ],
   "source": [
    "integrate(integrate(sum(sum(B(i,τ)*c[i]^2*A(i,c[i],j,σ)*C(j,σ) for i in idxset) for j in idxset),(τ,0,1)),(σ,0,1))"
   ]
  },
  {
   "cell_type": "code",
   "execution_count": 60,
   "id": "f546e446-7a17-49e8-a2a8-c18b8108c8a7",
   "metadata": {},
   "outputs": [
    {
     "data": {
      "text/latex": [
       "$\\frac{c_{1}^{2} γ_{1}}{60} + \\frac{c_{1}^{2} γ_{3}}{60} + \\frac{c_{1}^{2} γ_{4}}{60} - \\frac{c_{1} γ_{1}}{60} - \\frac{c_{1} γ_{3}}{60} - \\frac{c_{1} γ_{4}}{60} + \\frac{γ_{1}}{240} + \\frac{γ_{3}}{240} + \\frac{γ_{4}}{240} + \\frac{7}{72}$"
      ],
      "text/plain": [
       "  2        2        2                                                  \n",
       "c₁ ⋅γ₁   c₁ ⋅γ₃   c₁ ⋅γ₄   c₁⋅γ₁   c₁⋅γ₃   c₁⋅γ₄    γ₁    γ₃    γ₄   7 \n",
       "────── + ────── + ────── - ───── - ───── - ───── + ─── + ─── + ─── + ──\n",
       "  60       60       60       60      60      60    240   240   240   72"
      ]
     },
     "execution_count": 60,
     "metadata": {},
     "output_type": "execute_result"
    }
   ],
   "source": [
    "integrate(integrate(sum(sum(B(i,τ)*c[i]^2*A(i,τ,j,σ)*c[j] for i in idxset) for j in idxset),(τ,0,1)),(σ,0,1))"
   ]
  },
  {
   "cell_type": "code",
   "execution_count": 61,
   "id": "dd88c116-949b-4abc-af74-d7689a7a4c0b",
   "metadata": {},
   "outputs": [
    {
     "data": {
      "text/latex": [
       "$\\frac{c_{1}^{2}}{24} - \\frac{c_{1}}{24} + \\frac{5}{48}$"
      ],
      "text/plain": [
       "  2          \n",
       "c₁    c₁   5 \n",
       "─── - ── + ──\n",
       " 24   24   48"
      ]
     },
     "execution_count": 61,
     "metadata": {},
     "output_type": "execute_result"
    }
   ],
   "source": [
    "integrate(integrate(sum(sum(B(i,τ)*C(i,τ)*c[i]*A(i,c[i],j,σ)*c[j] for i in idxset) for j in idxset),(τ,0,1)),(σ,0,1))"
   ]
  },
  {
   "cell_type": "markdown",
   "id": "268737cd-db82-4b5f-a247-a3249f8e4319",
   "metadata": {},
   "source": [
    "#### 5-2-4"
   ]
  },
  {
   "cell_type": "code",
   "execution_count": 62,
   "id": "9f1bf6c7-3a34-4a17-b8af-e142a88868b9",
   "metadata": {},
   "outputs": [
    {
     "data": {
      "text/latex": [
       "$\\frac{c_{1}^{2}}{24} - \\frac{c_{1}}{24} + \\frac{5}{48}$"
      ],
      "text/plain": [
       "  2          \n",
       "c₁    c₁   5 \n",
       "─── - ── + ──\n",
       " 24   24   48"
      ]
     },
     "execution_count": 62,
     "metadata": {},
     "output_type": "execute_result"
    }
   ],
   "source": [
    "integrate(integrate(sum(sum(B(i,τ)*c[i]^2*A(i,c[i],j,σ)*c[j] for i in idxset) for j in idxset),(τ,0,1)),(σ,0,1))"
   ]
  },
  {
   "cell_type": "markdown",
   "id": "d2471050-b7a7-4a89-94cc-587f75ceb759",
   "metadata": {},
   "source": [
    "### 5-3 (Table A.4)"
   ]
  },
  {
   "cell_type": "code",
   "execution_count": 63,
   "id": "65ec84d9-c65f-4d6f-8f49-0b4c19f2a230",
   "metadata": {},
   "outputs": [
    {
     "data": {
      "text/latex": [
       "$\\frac{5}{72} - \\frac{α}{1800}$"
      ],
      "text/plain": [
       "5     α  \n",
       "── - ────\n",
       "72   1800"
      ]
     },
     "execution_count": 63,
     "metadata": {},
     "output_type": "execute_result"
    }
   ],
   "source": [
    "integrate(integrate(sum(sum(B(i,τ)*C(i,τ)*A(i,τ,j,σ)*C(j,σ)^2 for i in idxset) for j in idxset),(τ,0,1)),(σ,0,1))"
   ]
  },
  {
   "cell_type": "markdown",
   "id": "792c48f6-a24d-4957-ae2d-b2127e4b48ce",
   "metadata": {},
   "source": [
    "#### 5-3-1"
   ]
  },
  {
   "cell_type": "code",
   "execution_count": 64,
   "id": "6343578a-eaec-4643-811d-e4d29418b1dd",
   "metadata": {},
   "outputs": [
    {
     "data": {
      "text/latex": [
       "$\\frac{5}{72} - \\frac{α}{1800}$"
      ],
      "text/plain": [
       "5     α  \n",
       "── - ────\n",
       "72   1800"
      ]
     },
     "execution_count": 64,
     "metadata": {},
     "output_type": "execute_result"
    }
   ],
   "source": [
    "integrate(integrate(sum(sum(B(i,τ)*c[i]*A(i,τ,j,σ)*C(j,σ)^2 for i in idxset) for j in idxset),(τ,0,1)),(σ,0,1))"
   ]
  },
  {
   "cell_type": "code",
   "execution_count": 65,
   "id": "872086ff-0e1d-4aed-bb98-c9535231d78b",
   "metadata": {},
   "outputs": [
    {
     "data": {
      "text/latex": [
       "$\\frac{c_{1}^{2} α}{180} - \\frac{c_{1} α}{180} + \\frac{5}{72}$"
      ],
      "text/plain": [
       "  2              \n",
       "c₁ ⋅α   c₁⋅α   5 \n",
       "───── - ──── + ──\n",
       " 180    180    72"
      ]
     },
     "execution_count": 65,
     "metadata": {},
     "output_type": "execute_result"
    }
   ],
   "source": [
    "integrate(integrate(sum(sum(B(i,τ)*C(i,τ)*A(i,c[i],j,σ)*C(j,σ)^2 for i in idxset) for j in idxset),(τ,0,1)),(σ,0,1))"
   ]
  },
  {
   "cell_type": "code",
   "execution_count": 66,
   "id": "da03e9af-89e9-4fa3-803f-944204230f45",
   "metadata": {},
   "outputs": [
    {
     "data": {
      "text/latex": [
       "$\\frac{c_{1} γ_{3}}{360} + \\frac{c_{1} γ_{4}}{240} - \\frac{γ_{3}}{720} - \\frac{γ_{4}}{480} + \\frac{5}{72}$"
      ],
      "text/plain": [
       "c₁⋅γ₃   c₁⋅γ₄    γ₃    γ₄   5 \n",
       "───── + ───── - ─── - ─── + ──\n",
       " 360     240    720   480   72"
      ]
     },
     "execution_count": 66,
     "metadata": {},
     "output_type": "execute_result"
    }
   ],
   "source": [
    "integrate(integrate(sum(sum(B(i,τ)*C(i,τ)*A(i,τ,j,σ)*C(j,σ)*c[j] for i in idxset) for j in idxset),(τ,0,1)),(σ,0,1))"
   ]
  },
  {
   "cell_type": "markdown",
   "id": "7582edaf-951e-4069-9641-6b5dbf6c8fd8",
   "metadata": {},
   "source": [
    "#### 5-3-2"
   ]
  },
  {
   "cell_type": "code",
   "execution_count": 67,
   "id": "ec543759-2987-4ded-8ea8-75c2cb3a10c5",
   "metadata": {},
   "outputs": [
    {
     "data": {
      "text/latex": [
       "$\\frac{c_{1}^{2} α}{180} - \\frac{c_{1} α}{180} + \\frac{5}{72}$"
      ],
      "text/plain": [
       "  2              \n",
       "c₁ ⋅α   c₁⋅α   5 \n",
       "───── - ──── + ──\n",
       " 180    180    72"
      ]
     },
     "execution_count": 67,
     "metadata": {},
     "output_type": "execute_result"
    }
   ],
   "source": [
    "integrate(integrate(sum(sum(B(i,τ)*c[i]*A(i,c[i],j,σ)*C(j,σ)^2 for i in idxset) for j in idxset),(τ,0,1)),(σ,0,1))"
   ]
  },
  {
   "cell_type": "code",
   "execution_count": 68,
   "id": "018da256-6a1d-4a37-9632-b57fb2913af8",
   "metadata": {},
   "outputs": [
    {
     "data": {
      "text/latex": [
       "$\\frac{c_{1} γ_{3}}{360} + \\frac{c_{1} γ_{4}}{240} - \\frac{γ_{3}}{720} - \\frac{γ_{4}}{480} + \\frac{5}{72}$"
      ],
      "text/plain": [
       "c₁⋅γ₃   c₁⋅γ₄    γ₃    γ₄   5 \n",
       "───── + ───── - ─── - ─── + ──\n",
       " 360     240    720   480   72"
      ]
     },
     "execution_count": 68,
     "metadata": {},
     "output_type": "execute_result"
    }
   ],
   "source": [
    "integrate(integrate(sum(sum(B(i,τ)*c[i]*A(i,τ,j,σ)*C(j,σ)*c[j] for i in idxset) for j in idxset),(τ,0,1)),(σ,0,1))"
   ]
  },
  {
   "cell_type": "code",
   "execution_count": 69,
   "id": "16c436c8-7c29-4520-8e78-939b85d2576b",
   "metadata": {},
   "outputs": [
    {
     "data": {
      "text/latex": [
       "$- \\frac{c_{1}^{3} γ_{3}}{36} - \\frac{c_{1}^{3} γ_{4}}{24} + \\frac{c_{1}^{2} γ_{3}}{24} + \\frac{c_{1}^{2} γ_{4}}{16} - \\frac{c_{1} γ_{3}}{72} - \\frac{c_{1} γ_{4}}{48} + \\frac{5}{72}$"
      ],
      "text/plain": [
       "    3        3        2        2                        \n",
       "  c₁ ⋅γ₃   c₁ ⋅γ₄   c₁ ⋅γ₃   c₁ ⋅γ₄   c₁⋅γ₃   c₁⋅γ₄   5 \n",
       "- ────── - ────── + ────── + ────── - ───── - ───── + ──\n",
       "    36       24       24       16       72      48    72"
      ]
     },
     "execution_count": 69,
     "metadata": {},
     "output_type": "execute_result"
    }
   ],
   "source": [
    "integrate(integrate(sum(sum(B(i,τ)*C(i,τ)*A(i,c[i],j,σ)*C(j,σ)*c[j] for i in idxset) for j in idxset),(τ,0,1)),(σ,0,1))"
   ]
  },
  {
   "cell_type": "code",
   "execution_count": 70,
   "id": "49e64cf7-41d3-4bed-a7ee-8aba85091997",
   "metadata": {},
   "outputs": [
    {
     "data": {
      "text/latex": [
       "$- \\frac{c_{1}^{2} γ_{1}}{60} - \\frac{c_{1}^{2} γ_{3}}{60} - \\frac{c_{1}^{2} γ_{4}}{60} + \\frac{c_{1} γ_{1}}{60} + \\frac{c_{1} γ_{3}}{60} + \\frac{c_{1} γ_{4}}{60} - \\frac{γ_{1}}{240} - \\frac{γ_{3}}{240} - \\frac{γ_{4}}{240} + \\frac{5}{72}$"
      ],
      "text/plain": [
       "    2        2        2                                                  \n",
       "  c₁ ⋅γ₁   c₁ ⋅γ₃   c₁ ⋅γ₄   c₁⋅γ₁   c₁⋅γ₃   c₁⋅γ₄    γ₁    γ₃    γ₄   5 \n",
       "- ────── - ────── - ────── + ───── + ───── + ───── - ─── - ─── - ─── + ──\n",
       "    60       60       60       60      60      60    240   240   240   72"
      ]
     },
     "execution_count": 70,
     "metadata": {},
     "output_type": "execute_result"
    }
   ],
   "source": [
    "integrate(integrate(sum(sum(B(i,τ)*C(i,τ)*A(i,τ,j,σ)*c[j]^2 for i in idxset) for j in idxset),(τ,0,1)),(σ,0,1))"
   ]
  },
  {
   "cell_type": "markdown",
   "id": "e45c0037-51a2-46ff-9277-a7331e86eeb5",
   "metadata": {},
   "source": [
    "#### 5-3-3"
   ]
  },
  {
   "cell_type": "code",
   "execution_count": 71,
   "id": "5592a258-7b84-43a9-9c26-c42718c4c9bb",
   "metadata": {},
   "outputs": [
    {
     "data": {
      "text/latex": [
       "$\\frac{c_{1}^{4} γ_{1}}{6} + \\frac{c_{1}^{4} γ_{3}}{6} + \\frac{c_{1}^{4} γ_{4}}{6} - \\frac{c_{1}^{3} γ_{1}}{3} - \\frac{c_{1}^{3} γ_{3}}{3} - \\frac{c_{1}^{3} γ_{4}}{3} + \\frac{5 c_{1}^{2} γ_{1}}{24} + \\frac{5 c_{1}^{2} γ_{3}}{24} + \\frac{5 c_{1}^{2} γ_{4}}{24} - \\frac{c_{1} γ_{1}}{24} - \\frac{c_{1} γ_{3}}{24} - \\frac{c_{1} γ_{4}}{24} + \\frac{5}{72}$"
      ],
      "text/plain": [
       "  4        4        4        3        3        3          2          2        \n",
       "c₁ ⋅γ₁   c₁ ⋅γ₃   c₁ ⋅γ₄   c₁ ⋅γ₁   c₁ ⋅γ₃   c₁ ⋅γ₄   5⋅c₁ ⋅γ₁   5⋅c₁ ⋅γ₃   5⋅\n",
       "────── + ────── + ────── - ────── - ────── - ────── + ──────── + ──────── + ──\n",
       "  6        6        6        3        3        3         24         24        \n",
       "\n",
       "  2                                \n",
       "c₁ ⋅γ₄   c₁⋅γ₁   c₁⋅γ₃   c₁⋅γ₄   5 \n",
       "────── - ───── - ───── - ───── + ──\n",
       " 24        24      24      24    72"
      ]
     },
     "execution_count": 71,
     "metadata": {},
     "output_type": "execute_result"
    }
   ],
   "source": [
    "integrate(integrate(sum(sum(B(i,τ)*C(i,τ)*A(i,c[i],j,σ)*c[j]^2 for i in idxset) for j in idxset),(τ,0,1)),(σ,0,1))"
   ]
  },
  {
   "cell_type": "code",
   "execution_count": 72,
   "id": "a74a028a-e3e1-45b6-8c39-f71835221bb5",
   "metadata": {},
   "outputs": [
    {
     "data": {
      "text/latex": [
       "$- \\frac{c_{1}^{2} γ_{1}}{60} - \\frac{c_{1}^{2} γ_{3}}{60} - \\frac{c_{1}^{2} γ_{4}}{60} + \\frac{c_{1} γ_{1}}{60} + \\frac{c_{1} γ_{3}}{60} + \\frac{c_{1} γ_{4}}{60} - \\frac{γ_{1}}{240} - \\frac{γ_{3}}{240} - \\frac{γ_{4}}{240} + \\frac{5}{72}$"
      ],
      "text/plain": [
       "    2        2        2                                                  \n",
       "  c₁ ⋅γ₁   c₁ ⋅γ₃   c₁ ⋅γ₄   c₁⋅γ₁   c₁⋅γ₃   c₁⋅γ₄    γ₁    γ₃    γ₄   5 \n",
       "- ────── - ────── - ────── + ───── + ───── + ───── - ─── - ─── - ─── + ──\n",
       "    60       60       60       60      60      60    240   240   240   72"
      ]
     },
     "execution_count": 72,
     "metadata": {},
     "output_type": "execute_result"
    }
   ],
   "source": [
    "integrate(integrate(sum(sum(B(i,τ)*c[i]*A(i,τ,j,σ)*c[j]^2 for i in idxset) for j in idxset),(τ,0,1)),(σ,0,1))"
   ]
  },
  {
   "cell_type": "code",
   "execution_count": 73,
   "id": "61a10868-6712-4830-82eb-a8ad4f81ff96",
   "metadata": {},
   "outputs": [
    {
     "data": {
      "text/latex": [
       "$- \\frac{c_{1}^{3} γ_{3}}{36} - \\frac{c_{1}^{3} γ_{4}}{24} + \\frac{c_{1}^{2} γ_{3}}{24} + \\frac{c_{1}^{2} γ_{4}}{16} - \\frac{c_{1} γ_{3}}{72} - \\frac{c_{1} γ_{4}}{48} + \\frac{5}{72}$"
      ],
      "text/plain": [
       "    3        3        2        2                        \n",
       "  c₁ ⋅γ₃   c₁ ⋅γ₄   c₁ ⋅γ₃   c₁ ⋅γ₄   c₁⋅γ₃   c₁⋅γ₄   5 \n",
       "- ────── - ────── + ────── + ────── - ───── - ───── + ──\n",
       "    36       24       24       16       72      48    72"
      ]
     },
     "execution_count": 73,
     "metadata": {},
     "output_type": "execute_result"
    }
   ],
   "source": [
    "integrate(integrate(sum(sum(B(i,τ)*c[i]*A(i,c[i],j,σ)*C(j,σ)*c[j] for i in idxset) for j in idxset),(τ,0,1)),(σ,0,1))"
   ]
  },
  {
   "cell_type": "markdown",
   "id": "b5c3c146-2dc9-4c29-9bcf-93b4a7fe4655",
   "metadata": {},
   "source": [
    "#### 5-3-4"
   ]
  },
  {
   "cell_type": "code",
   "execution_count": 74,
   "id": "a2903251-14fc-46d6-a1e3-2b2e1e3b8929",
   "metadata": {},
   "outputs": [
    {
     "data": {
      "text/latex": [
       "$\\frac{c_{1}^{4} γ_{1}}{6} + \\frac{c_{1}^{4} γ_{3}}{6} + \\frac{c_{1}^{4} γ_{4}}{6} - \\frac{c_{1}^{3} γ_{1}}{3} - \\frac{c_{1}^{3} γ_{3}}{3} - \\frac{c_{1}^{3} γ_{4}}{3} + \\frac{5 c_{1}^{2} γ_{1}}{24} + \\frac{5 c_{1}^{2} γ_{3}}{24} + \\frac{5 c_{1}^{2} γ_{4}}{24} - \\frac{c_{1} γ_{1}}{24} - \\frac{c_{1} γ_{3}}{24} - \\frac{c_{1} γ_{4}}{24} + \\frac{5}{72}$"
      ],
      "text/plain": [
       "  4        4        4        3        3        3          2          2        \n",
       "c₁ ⋅γ₁   c₁ ⋅γ₃   c₁ ⋅γ₄   c₁ ⋅γ₁   c₁ ⋅γ₃   c₁ ⋅γ₄   5⋅c₁ ⋅γ₁   5⋅c₁ ⋅γ₃   5⋅\n",
       "────── + ────── + ────── - ────── - ────── - ────── + ──────── + ──────── + ──\n",
       "  6        6        6        3        3        3         24         24        \n",
       "\n",
       "  2                                \n",
       "c₁ ⋅γ₄   c₁⋅γ₁   c₁⋅γ₃   c₁⋅γ₄   5 \n",
       "────── - ───── - ───── - ───── + ──\n",
       " 24        24      24      24    72"
      ]
     },
     "execution_count": 74,
     "metadata": {},
     "output_type": "execute_result"
    }
   ],
   "source": [
    "integrate(integrate(sum(sum(B(i,τ)*c[i]*A(i,c[i],j,σ)*c[j]^2 for i in idxset) for j in idxset),(τ,0,1)),(σ,0,1))"
   ]
  },
  {
   "cell_type": "markdown",
   "id": "b026e425-1601-4cad-b6f8-bea3536ffe65",
   "metadata": {},
   "source": [
    "### 5-4 (Table A.5)"
   ]
  },
  {
   "cell_type": "code",
   "execution_count": 75,
   "id": "52a7c8cf-1da1-49b5-9737-6f22175c7f7c",
   "metadata": {},
   "outputs": [
    {
     "data": {
      "text/latex": [
       "$\\frac{5}{144} - \\frac{α}{3600}$"
      ],
      "text/plain": [
       " 5     α  \n",
       "─── - ────\n",
       "144   3600"
      ]
     },
     "execution_count": 75,
     "metadata": {},
     "output_type": "execute_result"
    }
   ],
   "source": [
    "integrate(integrate(integrate(sum(sum(sum(B(i,τ)*C(i,τ)*A(i,τ,j,σ)*A(j,σ,k,ξ)*C(k,ξ) for i in idxset) for j in idxset) for k in idxset),(τ,0,1)),(σ,0,1)),(ξ,0,1))"
   ]
  },
  {
   "cell_type": "markdown",
   "id": "1f80464a-10ac-4224-a4c2-ac4774b4f368",
   "metadata": {},
   "source": [
    "#### 5-4-1"
   ]
  },
  {
   "cell_type": "code",
   "execution_count": 76,
   "id": "79a72744-67ce-41fa-80a5-8375e5bfdb1e",
   "metadata": {},
   "outputs": [
    {
     "data": {
      "text/latex": [
       "$\\frac{5}{144} - \\frac{α}{3600}$"
      ],
      "text/plain": [
       " 5     α  \n",
       "─── - ────\n",
       "144   3600"
      ]
     },
     "execution_count": 76,
     "metadata": {},
     "output_type": "execute_result"
    }
   ],
   "source": [
    "integrate(integrate(integrate(sum(sum(sum(B(i,τ)*c[i]*A(i,τ,j,σ)*A(j,σ,k,ξ)*C(k,ξ) for i in idxset) for j in idxset) for k in idxset),(τ,0,1)),(σ,0,1)),(ξ,0,1))"
   ]
  },
  {
   "cell_type": "code",
   "execution_count": 77,
   "id": "6a05e5ef-8508-4fca-828d-bbd864c9d069",
   "metadata": {},
   "outputs": [
    {
     "data": {
      "text/latex": [
       "$\\frac{c_{1}^{2} α}{360} - \\frac{c_{1} α}{360} + \\frac{5}{144}$"
      ],
      "text/plain": [
       "  2               \n",
       "c₁ ⋅α   c₁⋅α    5 \n",
       "───── - ──── + ───\n",
       " 360    360    144"
      ]
     },
     "execution_count": 77,
     "metadata": {},
     "output_type": "execute_result"
    }
   ],
   "source": [
    "integrate(integrate(integrate(sum(sum(sum(B(i,τ)*C(i,τ)*A(i,c[i],j,σ)*A(j,σ,k,ξ)*C(k,ξ) for i in idxset) for j in idxset) for k in idxset),(τ,0,1)),(σ,0,1)),(ξ,0,1))"
   ]
  },
  {
   "cell_type": "code",
   "execution_count": 78,
   "id": "b91d5aa4-52ac-496e-ac3e-328ce6d6d710",
   "metadata": {},
   "outputs": [
    {
     "data": {
      "text/latex": [
       "$- \\frac{c_{1}^{2} γ_{1}}{120} - \\frac{c_{1}^{2} γ_{3}}{120} - \\frac{c_{1}^{2} γ_{4}}{120} + \\frac{c_{1} γ_{1}}{120} + \\frac{c_{1} γ_{3}}{120} + \\frac{c_{1} γ_{4}}{120} - \\frac{γ_{1}}{480} - \\frac{γ_{3}}{480} - \\frac{γ_{4}}{480} + \\frac{5}{144}$"
      ],
      "text/plain": [
       "    2        2        2                                                   \n",
       "  c₁ ⋅γ₁   c₁ ⋅γ₃   c₁ ⋅γ₄   c₁⋅γ₁   c₁⋅γ₃   c₁⋅γ₄    γ₁    γ₃    γ₄    5 \n",
       "- ────── - ────── - ────── + ───── + ───── + ───── - ─── - ─── - ─── + ───\n",
       "   120      120      120      120     120     120    480   480   480   144"
      ]
     },
     "execution_count": 78,
     "metadata": {},
     "output_type": "execute_result"
    }
   ],
   "source": [
    "integrate(integrate(integrate(sum(sum(sum(B(i,τ)*C(i,τ)*A(i,τ,j,σ)*A(j,c[j],k,ξ)*C(k,ξ) for i in idxset) for j in idxset) for k in idxset),(τ,0,1)),(σ,0,1)),(ξ,0,1))"
   ]
  },
  {
   "cell_type": "code",
   "execution_count": 79,
   "id": "8b4548e4-69b6-4974-86c2-c147010c1811",
   "metadata": {},
   "outputs": [
    {
     "data": {
      "text/latex": [
       "$\\frac{5}{144} - \\frac{α}{3600}$"
      ],
      "text/plain": [
       " 5     α  \n",
       "─── - ────\n",
       "144   3600"
      ]
     },
     "execution_count": 79,
     "metadata": {},
     "output_type": "execute_result"
    }
   ],
   "source": [
    "integrate(integrate(integrate(sum(sum(sum(B(i,τ)*C(i,τ)*A(i,τ,j,σ)*A(j,σ,k,ξ)*c[k] for i in idxset) for j in idxset) for k in idxset),(τ,0,1)),(σ,0,1)),(ξ,0,1))"
   ]
  },
  {
   "cell_type": "markdown",
   "id": "df9b06e4-726a-432b-bb4f-e8f3058e465e",
   "metadata": {},
   "source": [
    "#### 5-4-2"
   ]
  },
  {
   "cell_type": "code",
   "execution_count": 80,
   "id": "29c635df-0a0b-478d-aea5-2c79cacd6834",
   "metadata": {},
   "outputs": [
    {
     "data": {
      "text/latex": [
       "$\\frac{c_{1}^{2} α}{360} - \\frac{c_{1} α}{360} + \\frac{5}{144}$"
      ],
      "text/plain": [
       "  2               \n",
       "c₁ ⋅α   c₁⋅α    5 \n",
       "───── - ──── + ───\n",
       " 360    360    144"
      ]
     },
     "execution_count": 80,
     "metadata": {},
     "output_type": "execute_result"
    }
   ],
   "source": [
    "integrate(integrate(integrate(sum(sum(sum(B(i,τ)*c[i]*A(i,c[i],j,σ)*A(j,σ,k,ξ)*C(k,ξ) for i in idxset) for j in idxset) for k in idxset),(τ,0,1)),(σ,0,1)),(ξ,0,1))"
   ]
  },
  {
   "cell_type": "code",
   "execution_count": 81,
   "id": "2b5adce0-32df-491b-a51d-053b3a7798c4",
   "metadata": {},
   "outputs": [
    {
     "data": {
      "text/latex": [
       "$- \\frac{c_{1}^{2} γ_{1}}{120} - \\frac{c_{1}^{2} γ_{3}}{120} - \\frac{c_{1}^{2} γ_{4}}{120} + \\frac{c_{1} γ_{1}}{120} + \\frac{c_{1} γ_{3}}{120} + \\frac{c_{1} γ_{4}}{120} - \\frac{γ_{1}}{480} - \\frac{γ_{3}}{480} - \\frac{γ_{4}}{480} + \\frac{5}{144}$"
      ],
      "text/plain": [
       "    2        2        2                                                   \n",
       "  c₁ ⋅γ₁   c₁ ⋅γ₃   c₁ ⋅γ₄   c₁⋅γ₁   c₁⋅γ₃   c₁⋅γ₄    γ₁    γ₃    γ₄    5 \n",
       "- ────── - ────── - ────── + ───── + ───── + ───── - ─── - ─── - ─── + ───\n",
       "   120      120      120      120     120     120    480   480   480   144"
      ]
     },
     "execution_count": 81,
     "metadata": {},
     "output_type": "execute_result"
    }
   ],
   "source": [
    "integrate(integrate(integrate(sum(sum(sum(B(i,τ)*c[i]*A(i,τ,j,σ)*A(j,c[j],k,ξ)*C(k,ξ) for i in idxset) for j in idxset) for k in idxset),(τ,0,1)),(σ,0,1)),(ξ,0,1))"
   ]
  },
  {
   "cell_type": "code",
   "execution_count": 82,
   "id": "42b50557-f14c-4c81-ac6d-9c4906b4f211",
   "metadata": {},
   "outputs": [
    {
     "data": {
      "text/latex": [
       "$\\frac{5}{144} - \\frac{α}{3600}$"
      ],
      "text/plain": [
       " 5     α  \n",
       "─── - ────\n",
       "144   3600"
      ]
     },
     "execution_count": 82,
     "metadata": {},
     "output_type": "execute_result"
    }
   ],
   "source": [
    "integrate(integrate(integrate(sum(sum(sum(B(i,τ)*c[i]*A(i,τ,j,σ)*A(j,σ,k,ξ)*c[k] for i in idxset) for j in idxset) for k in idxset),(τ,0,1)),(σ,0,1)),(ξ,0,1))"
   ]
  },
  {
   "cell_type": "code",
   "execution_count": 83,
   "id": "5105e04d-bdec-4527-9335-ba071158aada",
   "metadata": {},
   "outputs": [
    {
     "data": {
      "text/latex": [
       "$\\frac{c_{1}^{4} γ_{1}}{12} + \\frac{c_{1}^{4} γ_{3}}{12} + \\frac{c_{1}^{4} γ_{4}}{12} - \\frac{c_{1}^{3} γ_{1}}{6} - \\frac{c_{1}^{3} γ_{3}}{6} - \\frac{c_{1}^{3} γ_{4}}{6} + \\frac{5 c_{1}^{2} γ_{1}}{48} + \\frac{5 c_{1}^{2} γ_{3}}{48} + \\frac{5 c_{1}^{2} γ_{4}}{48} - \\frac{c_{1} γ_{1}}{48} - \\frac{c_{1} γ_{3}}{48} - \\frac{c_{1} γ_{4}}{48} + \\frac{5}{144}$"
      ],
      "text/plain": [
       "  4        4        4        3        3        3          2          2        \n",
       "c₁ ⋅γ₁   c₁ ⋅γ₃   c₁ ⋅γ₄   c₁ ⋅γ₁   c₁ ⋅γ₃   c₁ ⋅γ₄   5⋅c₁ ⋅γ₁   5⋅c₁ ⋅γ₃   5⋅\n",
       "────── + ────── + ────── - ────── - ────── - ────── + ──────── + ──────── + ──\n",
       "  12       12       12       6        6        6         48         48        \n",
       "\n",
       "  2                                 \n",
       "c₁ ⋅γ₄   c₁⋅γ₁   c₁⋅γ₃   c₁⋅γ₄    5 \n",
       "────── - ───── - ───── - ───── + ───\n",
       " 48        48      48      48    144"
      ]
     },
     "execution_count": 83,
     "metadata": {},
     "output_type": "execute_result"
    }
   ],
   "source": [
    "integrate(integrate(integrate(sum(sum(sum(B(i,τ)*C(i,τ)*A(i,c[i],j,σ)*A(j,c[j],k,ξ)*C(k,ξ) for i in idxset) for j in idxset) for k in idxset),(τ,0,1)),(σ,0,1)),(ξ,0,1))"
   ]
  },
  {
   "cell_type": "code",
   "execution_count": 84,
   "id": "bcc2e555-ffd3-4dcf-832f-e56f3a4486d0",
   "metadata": {},
   "outputs": [
    {
     "data": {
      "text/latex": [
       "$\\frac{c_{1}^{2} α}{360} - \\frac{c_{1} α}{360} + \\frac{5}{144}$"
      ],
      "text/plain": [
       "  2               \n",
       "c₁ ⋅α   c₁⋅α    5 \n",
       "───── - ──── + ───\n",
       " 360    360    144"
      ]
     },
     "execution_count": 84,
     "metadata": {},
     "output_type": "execute_result"
    }
   ],
   "source": [
    "integrate(integrate(integrate(sum(sum(sum(B(i,τ)*C(i,τ)*A(i,c[i],j,σ)*A(j,σ,k,ξ)*c[k] for i in idxset) for j in idxset) for k in idxset),(τ,0,1)),(σ,0,1)),(ξ,0,1))"
   ]
  },
  {
   "cell_type": "code",
   "execution_count": 85,
   "id": "1d1f471f-2f96-4e46-80c8-6b8ebd71b4c3",
   "metadata": {},
   "outputs": [
    {
     "data": {
      "text/latex": [
       "$- \\frac{c_{1}^{2} γ_{1}}{120} - \\frac{c_{1}^{2} γ_{3}}{120} - \\frac{c_{1}^{2} γ_{4}}{120} + \\frac{c_{1} γ_{1}}{120} + \\frac{c_{1} γ_{3}}{120} + \\frac{c_{1} γ_{4}}{120} - \\frac{γ_{1}}{480} - \\frac{γ_{3}}{480} - \\frac{γ_{4}}{480} + \\frac{5}{144}$"
      ],
      "text/plain": [
       "    2        2        2                                                   \n",
       "  c₁ ⋅γ₁   c₁ ⋅γ₃   c₁ ⋅γ₄   c₁⋅γ₁   c₁⋅γ₃   c₁⋅γ₄    γ₁    γ₃    γ₄    5 \n",
       "- ────── - ────── - ────── + ───── + ───── + ───── - ─── - ─── - ─── + ───\n",
       "   120      120      120      120     120     120    480   480   480   144"
      ]
     },
     "execution_count": 85,
     "metadata": {},
     "output_type": "execute_result"
    }
   ],
   "source": [
    "integrate(integrate(integrate(sum(sum(sum(B(i,τ)*C(i,τ)*A(i,τ,j,σ)*A(j,c[j],k,ξ)*c[k] for i in idxset) for j in idxset) for k in idxset),(τ,0,1)),(σ,0,1)),(ξ,0,1))"
   ]
  },
  {
   "cell_type": "markdown",
   "id": "6fb184d7-960e-429d-916b-184bdd70cf42",
   "metadata": {},
   "source": [
    "#### 5-4-3"
   ]
  },
  {
   "cell_type": "code",
   "execution_count": 86,
   "id": "834565b5-c7be-41bb-b5f6-b9c861f9ac79",
   "metadata": {},
   "outputs": [
    {
     "data": {
      "text/latex": [
       "$\\frac{c_{1}^{4} γ_{1}}{12} + \\frac{c_{1}^{4} γ_{3}}{12} + \\frac{c_{1}^{4} γ_{4}}{12} - \\frac{c_{1}^{3} γ_{1}}{6} - \\frac{c_{1}^{3} γ_{3}}{6} - \\frac{c_{1}^{3} γ_{4}}{6} + \\frac{5 c_{1}^{2} γ_{1}}{48} + \\frac{5 c_{1}^{2} γ_{3}}{48} + \\frac{5 c_{1}^{2} γ_{4}}{48} - \\frac{c_{1} γ_{1}}{48} - \\frac{c_{1} γ_{3}}{48} - \\frac{c_{1} γ_{4}}{48} + \\frac{5}{144}$"
      ],
      "text/plain": [
       "  4        4        4        3        3        3          2          2        \n",
       "c₁ ⋅γ₁   c₁ ⋅γ₃   c₁ ⋅γ₄   c₁ ⋅γ₁   c₁ ⋅γ₃   c₁ ⋅γ₄   5⋅c₁ ⋅γ₁   5⋅c₁ ⋅γ₃   5⋅\n",
       "────── + ────── + ────── - ────── - ────── - ────── + ──────── + ──────── + ──\n",
       "  12       12       12       6        6        6         48         48        \n",
       "\n",
       "  2                                 \n",
       "c₁ ⋅γ₄   c₁⋅γ₁   c₁⋅γ₃   c₁⋅γ₄    5 \n",
       "────── - ───── - ───── - ───── + ───\n",
       " 48        48      48      48    144"
      ]
     },
     "execution_count": 86,
     "metadata": {},
     "output_type": "execute_result"
    }
   ],
   "source": [
    "integrate(integrate(integrate(sum(sum(sum(B(i,τ)*C(i,τ)*A(i,c[i],j,σ)*A(j,c[j],k,ξ)*c[k] for i in idxset) for j in idxset) for k in idxset),(τ,0,1)),(σ,0,1)),(ξ,0,1))"
   ]
  },
  {
   "cell_type": "code",
   "execution_count": 87,
   "id": "761aaab1-2873-4aed-8754-fa19ae05dfb2",
   "metadata": {},
   "outputs": [
    {
     "data": {
      "text/latex": [
       "$- \\frac{c_{1}^{2} γ_{1}}{120} - \\frac{c_{1}^{2} γ_{3}}{120} - \\frac{c_{1}^{2} γ_{4}}{120} + \\frac{c_{1} γ_{1}}{120} + \\frac{c_{1} γ_{3}}{120} + \\frac{c_{1} γ_{4}}{120} - \\frac{γ_{1}}{480} - \\frac{γ_{3}}{480} - \\frac{γ_{4}}{480} + \\frac{5}{144}$"
      ],
      "text/plain": [
       "    2        2        2                                                   \n",
       "  c₁ ⋅γ₁   c₁ ⋅γ₃   c₁ ⋅γ₄   c₁⋅γ₁   c₁⋅γ₃   c₁⋅γ₄    γ₁    γ₃    γ₄    5 \n",
       "- ────── - ────── - ────── + ───── + ───── + ───── - ─── - ─── - ─── + ───\n",
       "   120      120      120      120     120     120    480   480   480   144"
      ]
     },
     "execution_count": 87,
     "metadata": {},
     "output_type": "execute_result"
    }
   ],
   "source": [
    "integrate(integrate(integrate(sum(sum(sum(B(i,τ)*c[i]*A(i,τ,j,σ)*A(j,c[j],k,ξ)*c[k] for i in idxset) for j in idxset) for k in idxset),(τ,0,1)),(σ,0,1)),(ξ,0,1))"
   ]
  },
  {
   "cell_type": "code",
   "execution_count": 88,
   "id": "2bf014ab-749c-476f-b237-c7dfccf180e2",
   "metadata": {},
   "outputs": [
    {
     "data": {
      "text/latex": [
       "$\\frac{c_{1}^{2} α}{360} - \\frac{c_{1} α}{360} + \\frac{5}{144}$"
      ],
      "text/plain": [
       "  2               \n",
       "c₁ ⋅α   c₁⋅α    5 \n",
       "───── - ──── + ───\n",
       " 360    360    144"
      ]
     },
     "execution_count": 88,
     "metadata": {},
     "output_type": "execute_result"
    }
   ],
   "source": [
    "integrate(integrate(integrate(sum(sum(sum(B(i,τ)*c[i]*A(i,c[i],j,σ)*A(j,σ,k,ξ)*c[k] for i in idxset) for j in idxset) for k in idxset),(τ,0,1)),(σ,0,1)),(ξ,0,1))"
   ]
  },
  {
   "cell_type": "code",
   "execution_count": 89,
   "id": "4fa8268f-c298-4698-bf23-6abbdf5595f0",
   "metadata": {},
   "outputs": [
    {
     "data": {
      "text/latex": [
       "$\\frac{c_{1}^{4} γ_{1}}{12} + \\frac{c_{1}^{4} γ_{3}}{12} + \\frac{c_{1}^{4} γ_{4}}{12} - \\frac{c_{1}^{3} γ_{1}}{6} - \\frac{c_{1}^{3} γ_{3}}{6} - \\frac{c_{1}^{3} γ_{4}}{6} + \\frac{5 c_{1}^{2} γ_{1}}{48} + \\frac{5 c_{1}^{2} γ_{3}}{48} + \\frac{5 c_{1}^{2} γ_{4}}{48} - \\frac{c_{1} γ_{1}}{48} - \\frac{c_{1} γ_{3}}{48} - \\frac{c_{1} γ_{4}}{48} + \\frac{5}{144}$"
      ],
      "text/plain": [
       "  4        4        4        3        3        3          2          2        \n",
       "c₁ ⋅γ₁   c₁ ⋅γ₃   c₁ ⋅γ₄   c₁ ⋅γ₁   c₁ ⋅γ₃   c₁ ⋅γ₄   5⋅c₁ ⋅γ₁   5⋅c₁ ⋅γ₃   5⋅\n",
       "────── + ────── + ────── - ────── - ────── - ────── + ──────── + ──────── + ──\n",
       "  12       12       12       6        6        6         48         48        \n",
       "\n",
       "  2                                 \n",
       "c₁ ⋅γ₄   c₁⋅γ₁   c₁⋅γ₃   c₁⋅γ₄    5 \n",
       "────── - ───── - ───── - ───── + ───\n",
       " 48        48      48      48    144"
      ]
     },
     "execution_count": 89,
     "metadata": {},
     "output_type": "execute_result"
    }
   ],
   "source": [
    "integrate(integrate(integrate(sum(sum(sum(B(i,τ)*C(i,τ)*A(i,c[i],j,σ)*A(j,c[j],k,ξ)*c[k] for i in idxset) for j in idxset) for k in idxset),(τ,0,1)),(σ,0,1)),(ξ,0,1))"
   ]
  },
  {
   "cell_type": "markdown",
   "id": "a88da4f8-cdbb-418a-9b4a-b5b1ab6ffd35",
   "metadata": {},
   "source": [
    "#### 5-4-4"
   ]
  },
  {
   "cell_type": "code",
   "execution_count": 90,
   "id": "674d0a29-9736-4d3d-a025-304460ac6e6d",
   "metadata": {},
   "outputs": [
    {
     "data": {
      "text/latex": [
       "$\\frac{c_{1}^{4} γ_{1}}{12} + \\frac{c_{1}^{4} γ_{3}}{12} + \\frac{c_{1}^{4} γ_{4}}{12} - \\frac{c_{1}^{3} γ_{1}}{6} - \\frac{c_{1}^{3} γ_{3}}{6} - \\frac{c_{1}^{3} γ_{4}}{6} + \\frac{5 c_{1}^{2} γ_{1}}{48} + \\frac{5 c_{1}^{2} γ_{3}}{48} + \\frac{5 c_{1}^{2} γ_{4}}{48} - \\frac{c_{1} γ_{1}}{48} - \\frac{c_{1} γ_{3}}{48} - \\frac{c_{1} γ_{4}}{48} + \\frac{5}{144}$"
      ],
      "text/plain": [
       "  4        4        4        3        3        3          2          2        \n",
       "c₁ ⋅γ₁   c₁ ⋅γ₃   c₁ ⋅γ₄   c₁ ⋅γ₁   c₁ ⋅γ₃   c₁ ⋅γ₄   5⋅c₁ ⋅γ₁   5⋅c₁ ⋅γ₃   5⋅\n",
       "────── + ────── + ────── - ────── - ────── - ────── + ──────── + ──────── + ──\n",
       "  12       12       12       6        6        6         48         48        \n",
       "\n",
       "  2                                 \n",
       "c₁ ⋅γ₄   c₁⋅γ₁   c₁⋅γ₃   c₁⋅γ₄    5 \n",
       "────── - ───── - ───── - ───── + ───\n",
       " 48        48      48      48    144"
      ]
     },
     "execution_count": 90,
     "metadata": {},
     "output_type": "execute_result"
    }
   ],
   "source": [
    "integrate(integrate(integrate(sum(sum(sum(B(i,τ)*c[i]*A(i,c[i],j,σ)*A(j,c[j],k,ξ)*c[k] for i in idxset) for j in idxset) for k in idxset),(τ,0,1)),(σ,0,1)),(ξ,0,1))"
   ]
  },
  {
   "cell_type": "markdown",
   "id": "09e6c9f5-bf7d-4f53-9118-6e46c85aba3f",
   "metadata": {},
   "source": [
    "### 5-5 (Table A.6)"
   ]
  },
  {
   "cell_type": "code",
   "execution_count": 91,
   "id": "f1ebe98d-2a38-456e-a71d-e7d6c025f70f",
   "metadata": {},
   "outputs": [
    {
     "data": {
      "text/latex": [
       "$\\frac{1}{20}$"
      ],
      "text/plain": [
       "1/20"
      ]
     },
     "execution_count": 91,
     "metadata": {},
     "output_type": "execute_result"
    }
   ],
   "source": [
    "integrate(integrate(integrate(sum(sum(sum(B(i,τ)*A(i,τ,j,σ)*C(j,σ)*A(i,τ,k,ξ)*C(k,ξ) for i in idxset) for j in idxset) for k in idxset),(τ,0,1)),(σ,0,1)),(ξ,0,1))"
   ]
  },
  {
   "cell_type": "markdown",
   "id": "72e7cff2-1376-40f1-8d8d-89c68ede017b",
   "metadata": {},
   "source": [
    "#### 5-5-1"
   ]
  },
  {
   "cell_type": "code",
   "execution_count": 92,
   "id": "9038762b-d941-4d15-a49a-f83e22d60574",
   "metadata": {},
   "outputs": [
    {
     "data": {
      "text/latex": [
       "$\\frac{c_{1}^{2} γ_{1}}{120} + \\frac{c_{1}^{2} γ_{3}}{120} + \\frac{c_{1}^{2} γ_{4}}{120} - \\frac{c_{1} γ_{1}}{120} - \\frac{c_{1} γ_{3}}{120} - \\frac{c_{1} γ_{4}}{120} + \\frac{γ_{1}}{480} + \\frac{γ_{3}}{480} + \\frac{γ_{4}}{480} + \\frac{7}{144}$"
      ],
      "text/plain": [
       "  2        2        2                                                   \n",
       "c₁ ⋅γ₁   c₁ ⋅γ₃   c₁ ⋅γ₄   c₁⋅γ₁   c₁⋅γ₃   c₁⋅γ₄    γ₁    γ₃    γ₄    7 \n",
       "────── + ────── + ────── - ───── - ───── - ───── + ─── + ─── + ─── + ───\n",
       " 120      120      120      120     120     120    480   480   480   144"
      ]
     },
     "execution_count": 92,
     "metadata": {},
     "output_type": "execute_result"
    }
   ],
   "source": [
    "integrate(integrate(integrate(sum(sum(sum(B(i,τ)*A(i,c[i],j,σ)*C(j,σ)*A(i,τ,k,ξ)*C(k,ξ) for i in idxset) for j in idxset) for k in idxset),(τ,0,1)),(σ,0,1)),(ξ,0,1))"
   ]
  },
  {
   "cell_type": "code",
   "execution_count": 93,
   "id": "ee76c19a-868f-4724-a510-c25078e453cb",
   "metadata": {},
   "outputs": [
    {
     "data": {
      "text/latex": [
       "$\\frac{1}{20}$"
      ],
      "text/plain": [
       "1/20"
      ]
     },
     "execution_count": 93,
     "metadata": {},
     "output_type": "execute_result"
    }
   ],
   "source": [
    "integrate(integrate(integrate(sum(sum(sum(B(i,τ)*A(i,τ,j,σ)*c[j]*A(i,τ,k,ξ)*C(k,ξ) for i in idxset) for j in idxset) for k in idxset),(τ,0,1)),(σ,0,1)),(ξ,0,1))"
   ]
  },
  {
   "cell_type": "markdown",
   "id": "be8fc69a-314f-4cb2-a12f-187a8fd7815e",
   "metadata": {},
   "source": [
    "#### 5-5-2"
   ]
  },
  {
   "cell_type": "code",
   "execution_count": 94,
   "id": "e71b9c93-724b-4867-bd18-6fc1f95a3e9a",
   "metadata": {},
   "outputs": [
    {
     "data": {
      "text/latex": [
       "$\\frac{c_{1}^{2} γ_{1}}{120} + \\frac{c_{1}^{2} γ_{3}}{120} + \\frac{c_{1}^{2} γ_{4}}{120} - \\frac{c_{1} γ_{1}}{120} - \\frac{c_{1} γ_{3}}{120} - \\frac{c_{1} γ_{4}}{120} + \\frac{γ_{1}}{480} + \\frac{γ_{3}}{480} + \\frac{γ_{4}}{480} + \\frac{7}{144}$"
      ],
      "text/plain": [
       "  2        2        2                                                   \n",
       "c₁ ⋅γ₁   c₁ ⋅γ₃   c₁ ⋅γ₄   c₁⋅γ₁   c₁⋅γ₃   c₁⋅γ₄    γ₁    γ₃    γ₄    7 \n",
       "────── + ────── + ────── - ───── - ───── - ───── + ─── + ─── + ─── + ───\n",
       " 120      120      120      120     120     120    480   480   480   144"
      ]
     },
     "execution_count": 94,
     "metadata": {},
     "output_type": "execute_result"
    }
   ],
   "source": [
    "integrate(integrate(integrate(sum(sum(sum(B(i,τ)*A(i,c[i],j,σ)*c[j]*A(i,τ,k,ξ)*C(k,ξ) for i in idxset) for j in idxset) for k in idxset),(τ,0,1)),(σ,0,1)),(ξ,0,1))"
   ]
  },
  {
   "cell_type": "code",
   "execution_count": 95,
   "id": "b83c062f-4dc1-449c-9878-2799c9d7ebe0",
   "metadata": {},
   "outputs": [
    {
     "data": {
      "text/latex": [
       "$\\frac{c_{1}^{2}}{48} - \\frac{c_{1}}{48} + \\frac{5}{96}$"
      ],
      "text/plain": [
       "  2          \n",
       "c₁    c₁   5 \n",
       "─── - ── + ──\n",
       " 48   48   96"
      ]
     },
     "execution_count": 95,
     "metadata": {},
     "output_type": "execute_result"
    }
   ],
   "source": [
    "integrate(integrate(integrate(sum(sum(sum(B(i,τ)*A(i,c[i],j,σ)*C(j,σ)*A(i,c[i],k,ξ)*C(k,ξ) for i in idxset) for j in idxset) for k in idxset),(τ,0,1)),(σ,0,1)),(ξ,0,1))"
   ]
  },
  {
   "cell_type": "code",
   "execution_count": 96,
   "id": "f80312ff-2008-4c57-9b8e-12a1611459e1",
   "metadata": {},
   "outputs": [
    {
     "data": {
      "text/latex": [
       "$\\frac{c_{1}^{2} γ_{1}}{120} + \\frac{c_{1}^{2} γ_{3}}{120} + \\frac{c_{1}^{2} γ_{4}}{120} - \\frac{c_{1} γ_{1}}{120} - \\frac{c_{1} γ_{3}}{120} - \\frac{c_{1} γ_{4}}{120} + \\frac{γ_{1}}{480} + \\frac{γ_{3}}{480} + \\frac{γ_{4}}{480} + \\frac{7}{144}$"
      ],
      "text/plain": [
       "  2        2        2                                                   \n",
       "c₁ ⋅γ₁   c₁ ⋅γ₃   c₁ ⋅γ₄   c₁⋅γ₁   c₁⋅γ₃   c₁⋅γ₄    γ₁    γ₃    γ₄    7 \n",
       "────── + ────── + ────── - ───── - ───── - ───── + ─── + ─── + ─── + ───\n",
       " 120      120      120      120     120     120    480   480   480   144"
      ]
     },
     "execution_count": 96,
     "metadata": {},
     "output_type": "execute_result"
    }
   ],
   "source": [
    "integrate(integrate(integrate(sum(sum(sum(B(i,τ)*A(i,c[i],j,σ)*C(j,σ)*A(i,τ,k,ξ)*c[k] for i in idxset) for j in idxset) for k in idxset),(τ,0,1)),(σ,0,1)),(ξ,0,1))"
   ]
  },
  {
   "cell_type": "markdown",
   "id": "77c9520e-8434-423c-9ed2-fb9c258f2d8c",
   "metadata": {},
   "source": [
    "#### 5-5-3"
   ]
  },
  {
   "cell_type": "code",
   "execution_count": 97,
   "id": "f5231d7a-ffd3-4f2c-8d9c-272c54b68ae0",
   "metadata": {},
   "outputs": [
    {
     "data": {
      "text/latex": [
       "$\\frac{c_{1}^{2} γ_{1}}{120} + \\frac{c_{1}^{2} γ_{3}}{120} + \\frac{c_{1}^{2} γ_{4}}{120} - \\frac{c_{1} γ_{1}}{120} - \\frac{c_{1} γ_{3}}{120} - \\frac{c_{1} γ_{4}}{120} + \\frac{γ_{1}}{480} + \\frac{γ_{3}}{480} + \\frac{γ_{4}}{480} + \\frac{7}{144}$"
      ],
      "text/plain": [
       "  2        2        2                                                   \n",
       "c₁ ⋅γ₁   c₁ ⋅γ₃   c₁ ⋅γ₄   c₁⋅γ₁   c₁⋅γ₃   c₁⋅γ₄    γ₁    γ₃    γ₄    7 \n",
       "────── + ────── + ────── - ───── - ───── - ───── + ─── + ─── + ─── + ───\n",
       " 120      120      120      120     120     120    480   480   480   144"
      ]
     },
     "execution_count": 97,
     "metadata": {},
     "output_type": "execute_result"
    }
   ],
   "source": [
    "integrate(integrate(integrate(sum(sum(sum(B(i,τ)*A(i,τ,j,σ)*c[j]*A(i,c[i],k,ξ)*c[k] for i in idxset) for j in idxset) for k in idxset),(τ,0,1)),(σ,0,1)),(ξ,0,1))"
   ]
  },
  {
   "cell_type": "code",
   "execution_count": 98,
   "id": "6e7fb539-19a9-4948-bd2c-6ff5f8ba9b30",
   "metadata": {},
   "outputs": [
    {
     "data": {
      "text/latex": [
       "$\\frac{c_{1}^{2}}{48} - \\frac{c_{1}}{48} + \\frac{5}{96}$"
      ],
      "text/plain": [
       "  2          \n",
       "c₁    c₁   5 \n",
       "─── - ── + ──\n",
       " 48   48   96"
      ]
     },
     "execution_count": 98,
     "metadata": {},
     "output_type": "execute_result"
    }
   ],
   "source": [
    "integrate(integrate(integrate(sum(sum(sum(B(i,τ)*A(i,c[i],j,σ)*C(j,σ)*A(i,c[i],k,ξ)*c[k] for i in idxset) for j in idxset) for k in idxset),(τ,0,1)),(σ,0,1)),(ξ,0,1))"
   ]
  },
  {
   "cell_type": "markdown",
   "id": "6d60414d-0fc3-40ae-b452-cc00516f53ab",
   "metadata": {},
   "source": [
    "#### 5-5-4"
   ]
  },
  {
   "cell_type": "code",
   "execution_count": 99,
   "id": "d87354a3-8059-49d9-9a16-9b05f69b67ea",
   "metadata": {},
   "outputs": [
    {
     "data": {
      "text/latex": [
       "$\\frac{c_{1}^{2}}{48} - \\frac{c_{1}}{48} + \\frac{5}{96}$"
      ],
      "text/plain": [
       "  2          \n",
       "c₁    c₁   5 \n",
       "─── - ── + ──\n",
       " 48   48   96"
      ]
     },
     "execution_count": 99,
     "metadata": {},
     "output_type": "execute_result"
    }
   ],
   "source": [
    "integrate(integrate(integrate(sum(sum(sum(B(i,τ)*A(i,c[i],j,σ)*c[j]*A(i,c[i],k,ξ)*c[k] for i in idxset) for j in idxset) for k in idxset),(τ,0,1)),(σ,0,1)),(ξ,0,1))"
   ]
  },
  {
   "cell_type": "markdown",
   "id": "7f325ee3-8a78-4529-9d7e-a7aa34c29c7e",
   "metadata": {},
   "source": [
    "### 5-6 (Table A.7)"
   ]
  },
  {
   "cell_type": "code",
   "execution_count": 100,
   "id": "36a43bf8-6bfb-4ae8-acf7-d473865f6a11",
   "metadata": {},
   "outputs": [
    {
     "data": {
      "text/latex": [
       "$\\frac{1}{20}$"
      ],
      "text/plain": [
       "1/20"
      ]
     },
     "execution_count": 100,
     "metadata": {},
     "output_type": "execute_result"
    }
   ],
   "source": [
    "integrate(integrate(sum(sum(B(i,τ)*A(i,τ,j,σ)*C(j,σ)^3 for i in idxset) for j in idxset), (τ,0,1)),(σ,0,1))"
   ]
  },
  {
   "cell_type": "markdown",
   "id": "ee60f15e-23eb-4ce2-bae1-daafcb90fc4f",
   "metadata": {},
   "source": [
    "#### 5-6-1"
   ]
  },
  {
   "cell_type": "code",
   "execution_count": 101,
   "id": "46af4cab-e3a0-428e-a723-3a4ae22f3025",
   "metadata": {},
   "outputs": [
    {
     "data": {
      "text/latex": [
       "$\\frac{1}{20}$"
      ],
      "text/plain": [
       "1/20"
      ]
     },
     "execution_count": 101,
     "metadata": {},
     "output_type": "execute_result"
    }
   ],
   "source": [
    "integrate(integrate(sum(sum(B(i,τ)*A(i,c[i],j,σ)*C(j,σ)^3 for i in idxset) for j in idxset), (τ,0,1)),(σ,0,1))"
   ]
  },
  {
   "cell_type": "code",
   "execution_count": 102,
   "id": "28c0f4c0-904b-43a8-ba5c-deb839427b5c",
   "metadata": {},
   "outputs": [
    {
     "data": {
      "text/latex": [
       "$\\frac{c_{1} γ_{3}}{180} + \\frac{c_{1} γ_{4}}{120} - \\frac{γ_{3}}{360} - \\frac{γ_{4}}{240} + \\frac{1}{18}$"
      ],
      "text/plain": [
       "c₁⋅γ₃   c₁⋅γ₄    γ₃    γ₄   1 \n",
       "───── + ───── - ─── - ─── + ──\n",
       " 180     120    360   240   18"
      ]
     },
     "execution_count": 102,
     "metadata": {},
     "output_type": "execute_result"
    }
   ],
   "source": [
    "integrate(integrate(sum(sum(B(i,τ)*A(i,τ,j,σ)*C(j,σ)^2*c[j] for i in idxset) for j in idxset), (τ,0,1)),(σ,0,1))"
   ]
  },
  {
   "cell_type": "markdown",
   "id": "2268b7d2-3fdc-4d18-a311-c1070b5e83b1",
   "metadata": {},
   "source": [
    "#### 5-6-2"
   ]
  },
  {
   "cell_type": "code",
   "execution_count": 103,
   "id": "48c561d0-46a9-490f-9b81-10fe7bcc9a1b",
   "metadata": {},
   "outputs": [
    {
     "data": {
      "text/latex": [
       "$\\frac{c_{1} γ_{3}}{180} + \\frac{c_{1} γ_{4}}{120} - \\frac{γ_{3}}{360} - \\frac{γ_{4}}{240} + \\frac{1}{18}$"
      ],
      "text/plain": [
       "c₁⋅γ₃   c₁⋅γ₄    γ₃    γ₄   1 \n",
       "───── + ───── - ─── - ─── + ──\n",
       " 180     120    360   240   18"
      ]
     },
     "execution_count": 103,
     "metadata": {},
     "output_type": "execute_result"
    }
   ],
   "source": [
    "integrate(integrate(sum(sum(B(i,τ)*A(i,c[i],j,σ)*C(j,σ)^2*c[j] for i in idxset) for j in idxset), (τ,0,1)),(σ,0,1))"
   ]
  },
  {
   "cell_type": "code",
   "execution_count": 104,
   "id": "43fa8c7a-22e8-4019-b43f-3cc338614b76",
   "metadata": {},
   "outputs": [
    {
     "data": {
      "text/latex": [
       "$\\frac{1}{6}$"
      ],
      "text/plain": [
       "1/6"
      ]
     },
     "execution_count": 104,
     "metadata": {},
     "output_type": "execute_result"
    }
   ],
   "source": [
    "integrate(integrate(sum(sum(B(i,τ)*A(i,τ,j,σ)*C(j,σ)*c[j]^2 for i in idxset) for j in idxset), (τ,0,1)),(σ,0,1))"
   ]
  },
  {
   "cell_type": "markdown",
   "id": "1dfb6e74-77ef-4c53-9564-60e3c679f0ce",
   "metadata": {},
   "source": [
    "#### 5-6-3"
   ]
  },
  {
   "cell_type": "code",
   "execution_count": 105,
   "id": "5ca1e848-3631-43ac-ae34-ee318f7459fd",
   "metadata": {},
   "outputs": [
    {
     "data": {
      "text/latex": [
       "$- \\frac{c_{1}^{2}}{12} + \\frac{c_{1}}{12} + \\frac{1}{24}$"
      ],
      "text/plain": [
       "    2          \n",
       "  c₁    c₁   1 \n",
       "- ─── + ── + ──\n",
       "   12   12   24"
      ]
     },
     "execution_count": 105,
     "metadata": {},
     "output_type": "execute_result"
    }
   ],
   "source": [
    "integrate(integrate(sum(sum(B(i,τ)*A(i,τ,j,σ)*c[j]^3 for i in idxset) for j in idxset), (τ,0,1)),(σ,0,1))"
   ]
  },
  {
   "cell_type": "markdown",
   "id": "6855e1ff-8ae1-42f8-be93-8c6abf126032",
   "metadata": {},
   "source": [
    "integrate(integrate(sum(sum(B(i,τ)*A(i,c[i],j,σ)*C(j,σ)*c[j]^2 for i in idxset) for j in idxset), (τ,0,1)),(σ,0,1))"
   ]
  },
  {
   "cell_type": "markdown",
   "id": "45063de6-4e05-4871-bf95-d11a5ae3019c",
   "metadata": {},
   "source": [
    "#### 5-6-4"
   ]
  },
  {
   "cell_type": "code",
   "execution_count": 106,
   "id": "0d6e1a31-12e6-486e-b9d7-66c4cdda3f97",
   "metadata": {},
   "outputs": [
    {
     "data": {
      "text/latex": [
       "$- \\frac{c_{1}^{2}}{12} + \\frac{c_{1}}{12} + \\frac{1}{24}$"
      ],
      "text/plain": [
       "    2          \n",
       "  c₁    c₁   1 \n",
       "- ─── + ── + ──\n",
       "   12   12   24"
      ]
     },
     "execution_count": 106,
     "metadata": {},
     "output_type": "execute_result"
    }
   ],
   "source": [
    "integrate(integrate(sum(sum(B(i,τ)*A(i,c[i],j,σ)*c[j]^3 for i in idxset) for j in idxset), (τ,0,1)),(σ,0,1))"
   ]
  },
  {
   "cell_type": "markdown",
   "id": "48845f53-e91c-4776-b361-3fcc4ac51b62",
   "metadata": {},
   "source": [
    "### 5-7 (Table A.8)"
   ]
  },
  {
   "cell_type": "code",
   "execution_count": 107,
   "id": "9f88fca3-22de-41cf-b847-bd96ecc0ff3e",
   "metadata": {},
   "outputs": [
    {
     "data": {
      "text/latex": [
       "$\\frac{1}{40}$"
      ],
      "text/plain": [
       "1/40"
      ]
     },
     "execution_count": 107,
     "metadata": {},
     "output_type": "execute_result"
    }
   ],
   "source": [
    "integrate(integrate(integrate(sum(sum(sum(B(i,τ)*A(i,τ,j,σ)*C(j,σ)*A(j,σ,k,ξ)*C(k,ξ) for i in idxset) for j in idxset) for k in idxset),(τ,0,1)),(σ,0,1)),(ξ,0,1))"
   ]
  },
  {
   "cell_type": "markdown",
   "id": "7d61afc8-9039-42a3-8633-7693f9fc117e",
   "metadata": {},
   "source": [
    "#### 5-7-1"
   ]
  },
  {
   "cell_type": "code",
   "execution_count": 108,
   "id": "65de077e-6705-4f4d-ba9c-b9e02a70752c",
   "metadata": {},
   "outputs": [
    {
     "data": {
      "text/latex": [
       "$\\frac{1}{40}$"
      ],
      "text/plain": [
       "1/40"
      ]
     },
     "execution_count": 108,
     "metadata": {},
     "output_type": "execute_result"
    }
   ],
   "source": [
    "integrate(integrate(integrate(sum(sum(sum(B(i,τ)*A(i,c[i],j,σ)*C(j,σ)*A(j,σ,k,ξ)*C(k,ξ) for i in idxset) for j in idxset) for k in idxset),(τ,0,1)),(σ,0,1)),(ξ,0,1))"
   ]
  },
  {
   "cell_type": "code",
   "execution_count": null,
   "id": "25e41f9c-eb88-49b0-bd96-b3dddbb39c1a",
   "metadata": {},
   "outputs": [],
   "source": [
    "integrate(integrate(integrate(sum(sum(sum(B(i,τ)*A(i,τ,j,σ)*c[j]*A(j,σ,k,ξ)*C(k,ξ) for i in idxset) for j in idxset) for k in idxset),(τ,0,1)),(σ,0,1)),(ξ,0,1))"
   ]
  },
  {
   "cell_type": "code",
   "execution_count": 110,
   "id": "4f763b93-840e-4c16-8548-9f7c37988592",
   "metadata": {},
   "outputs": [
    {
     "data": {
      "text/latex": [
       "$\\frac{1}{40}$"
      ],
      "text/plain": [
       "1/40"
      ]
     },
     "execution_count": 110,
     "metadata": {},
     "output_type": "execute_result"
    }
   ],
   "source": [
    "integrate(integrate(integrate(sum(sum(sum(B(i,τ)*A(i,τ,j,σ)*C(j,σ)*A(j,σ,k,ξ)*c[k] for i in idxset) for j in idxset) for k in idxset),(τ,0,1)),(σ,0,1)),(ξ,0,1))"
   ]
  },
  {
   "cell_type": "code",
   "execution_count": 111,
   "id": "414974ad-6557-4f93-a6cc-4c56c2e1fad6",
   "metadata": {},
   "outputs": [
    {
     "data": {
      "text/latex": [
       "$- \\frac{c_{1}^{2} γ_{2}}{36} - \\frac{c_{1}^{2} γ_{3}}{12} - \\frac{c_{1}^{2} γ_{4}}{16} + \\frac{c_{1} γ_{2}}{36} + \\frac{c_{1} γ_{3}}{12} + \\frac{c_{1} γ_{4}}{16} - \\frac{γ_{2}}{144} - \\frac{γ_{3}}{48} - \\frac{γ_{4}}{64} + \\frac{1}{32}$"
      ],
      "text/plain": [
       "    2        2        2                                                \n",
       "  c₁ ⋅γ₂   c₁ ⋅γ₃   c₁ ⋅γ₄   c₁⋅γ₂   c₁⋅γ₃   c₁⋅γ₄    γ₂   γ₃   γ₄   1 \n",
       "- ────── - ────── - ────── + ───── + ───── + ───── - ─── - ── - ── + ──\n",
       "    36       12       16       36      12      16    144   48   64   32"
      ]
     },
     "execution_count": 111,
     "metadata": {},
     "output_type": "execute_result"
    }
   ],
   "source": [
    "integrate(integrate(integrate(sum(sum(sum(B(i,τ)*A(i,τ,j,σ)*C(j,σ)*A(j,c[j],k,ξ)*C(k,ξ) for i in idxset) for j in idxset) for k in idxset),(τ,0,1)),(σ,0,1)),(ξ,0,1))"
   ]
  },
  {
   "cell_type": "markdown",
   "id": "8dfeda28-e523-4700-894e-d498cb576fc6",
   "metadata": {},
   "source": [
    "#### 5-7-2"
   ]
  },
  {
   "cell_type": "code",
   "execution_count": 112,
   "id": "2d6cf501-cc02-459b-aaa3-8049682028db",
   "metadata": {},
   "outputs": [
    {
     "data": {
      "text/latex": [
       "$\\frac{c_{1} γ_{3}}{360} + \\frac{c_{1} γ_{4}}{240} - \\frac{γ_{3}}{720} - \\frac{γ_{4}}{480} + \\frac{1}{36}$"
      ],
      "text/plain": [
       "c₁⋅γ₃   c₁⋅γ₄    γ₃    γ₄   1 \n",
       "───── + ───── - ─── - ─── + ──\n",
       " 360     240    720   480   36"
      ]
     },
     "execution_count": 112,
     "metadata": {},
     "output_type": "execute_result"
    }
   ],
   "source": [
    "integrate(integrate(integrate(sum(sum(sum(B(i,τ)*A(i,c[i],j,σ)*c[j]*A(j,σ,k,ξ)*C(k,ξ) for i in idxset) for j in idxset) for k in idxset),(τ,0,1)),(σ,0,1)),(ξ,0,1))"
   ]
  },
  {
   "cell_type": "code",
   "execution_count": 113,
   "id": "59da0259-1574-453b-95a0-eed5493edb48",
   "metadata": {},
   "outputs": [
    {
     "data": {
      "text/latex": [
       "$- \\frac{c_{1}^{2} γ_{2}}{36} - \\frac{c_{1}^{2} γ_{3}}{12} - \\frac{c_{1}^{2} γ_{4}}{16} + \\frac{c_{1} γ_{2}}{36} + \\frac{c_{1} γ_{3}}{12} + \\frac{c_{1} γ_{4}}{16} - \\frac{γ_{2}}{144} - \\frac{γ_{3}}{48} - \\frac{γ_{4}}{64} + \\frac{1}{32}$"
      ],
      "text/plain": [
       "    2        2        2                                                \n",
       "  c₁ ⋅γ₂   c₁ ⋅γ₃   c₁ ⋅γ₄   c₁⋅γ₂   c₁⋅γ₃   c₁⋅γ₄    γ₂   γ₃   γ₄   1 \n",
       "- ────── - ────── - ────── + ───── + ───── + ───── - ─── - ── - ── + ──\n",
       "    36       12       16       36      12      16    144   48   64   32"
      ]
     },
     "execution_count": 113,
     "metadata": {},
     "output_type": "execute_result"
    }
   ],
   "source": [
    "integrate(integrate(integrate(sum(sum(sum(B(i,τ)*A(i,c[i],j,σ)*C(j,σ)*A(j,c[j],k,ξ)*C(k,ξ) for i in idxset) for j in idxset) for k in idxset),(τ,0,1)),(σ,0,1)),(ξ,0,1))"
   ]
  },
  {
   "cell_type": "code",
   "execution_count": 114,
   "id": "e8e78ed2-fcca-44ae-a4cb-e92f8e5385d9",
   "metadata": {},
   "outputs": [
    {
     "data": {
      "text/latex": [
       "$\\frac{1}{40}$"
      ],
      "text/plain": [
       "1/40"
      ]
     },
     "execution_count": 114,
     "metadata": {},
     "output_type": "execute_result"
    }
   ],
   "source": [
    "integrate(integrate(integrate(sum(sum(sum(B(i,τ)*A(i,c[i],j,σ)*C(j,σ)*A(j,σ,k,ξ)*c[k] for i in idxset) for j in idxset) for k in idxset),(τ,0,1)),(σ,0,1)),(ξ,0,1))"
   ]
  },
  {
   "cell_type": "code",
   "execution_count": 115,
   "id": "ae51eecd-705d-4eff-9a36-fee806261557",
   "metadata": {},
   "outputs": [
    {
     "data": {
      "text/latex": [
       "$- \\frac{c_{1}^{2}}{24} + \\frac{c_{1}}{24} + \\frac{1}{48}$"
      ],
      "text/plain": [
       "    2          \n",
       "  c₁    c₁   1 \n",
       "- ─── + ── + ──\n",
       "   24   24   48"
      ]
     },
     "execution_count": 115,
     "metadata": {},
     "output_type": "execute_result"
    }
   ],
   "source": [
    "integrate(integrate(integrate(sum(sum(sum(B(i,τ)*A(i,τ,j,σ)*c[j]*A(j,c[j],k,ξ)*C(k,ξ) for i in idxset) for j in idxset) for k in idxset),(τ,0,1)),(σ,0,1)),(ξ,0,1))"
   ]
  },
  {
   "cell_type": "code",
   "execution_count": 116,
   "id": "a622b1dc-5e1f-4c78-9f3b-f03ab2ed5e5e",
   "metadata": {},
   "outputs": [
    {
     "data": {
      "text/latex": [
       "$\\frac{c_{1} γ_{3}}{360} + \\frac{c_{1} γ_{4}}{240} - \\frac{γ_{3}}{720} - \\frac{γ_{4}}{480} + \\frac{1}{36}$"
      ],
      "text/plain": [
       "c₁⋅γ₃   c₁⋅γ₄    γ₃    γ₄   1 \n",
       "───── + ───── - ─── - ─── + ──\n",
       " 360     240    720   480   36"
      ]
     },
     "execution_count": 116,
     "metadata": {},
     "output_type": "execute_result"
    }
   ],
   "source": [
    "integrate(integrate(integrate(sum(sum(sum(B(i,τ)*A(i,τ,j,σ)*c[j]*A(j,σ,k,ξ)*c[k] for i in idxset) for j in idxset) for k in idxset),(τ,0,1)),(σ,0,1)),(ξ,0,1))"
   ]
  },
  {
   "cell_type": "code",
   "execution_count": 117,
   "id": "8dad9c74-d497-42d0-895a-0a2205ab57e8",
   "metadata": {},
   "outputs": [
    {
     "data": {
      "text/latex": [
       "$- \\frac{c_{1}^{2} γ_{2}}{36} - \\frac{c_{1}^{2} γ_{3}}{12} - \\frac{c_{1}^{2} γ_{4}}{16} + \\frac{c_{1} γ_{2}}{36} + \\frac{c_{1} γ_{3}}{12} + \\frac{c_{1} γ_{4}}{16} - \\frac{γ_{2}}{144} - \\frac{γ_{3}}{48} - \\frac{γ_{4}}{64} + \\frac{1}{32}$"
      ],
      "text/plain": [
       "    2        2        2                                                \n",
       "  c₁ ⋅γ₂   c₁ ⋅γ₃   c₁ ⋅γ₄   c₁⋅γ₂   c₁⋅γ₃   c₁⋅γ₄    γ₂   γ₃   γ₄   1 \n",
       "- ────── - ────── - ────── + ───── + ───── + ───── - ─── - ── - ── + ──\n",
       "    36       12       16       36      12      16    144   48   64   32"
      ]
     },
     "execution_count": 117,
     "metadata": {},
     "output_type": "execute_result"
    }
   ],
   "source": [
    "integrate(integrate(integrate(sum(sum(sum(B(i,τ)*A(i,τ,j,σ)*C(j,σ)*A(j,c[j],k,ξ)*c[k] for i in idxset) for j in idxset) for k in idxset),(τ,0,1)),(σ,0,1)),(ξ,0,1))"
   ]
  },
  {
   "cell_type": "markdown",
   "id": "e51a42ba-f834-4369-95d6-d059e0842d84",
   "metadata": {},
   "source": [
    "#### 5-7-3"
   ]
  },
  {
   "cell_type": "code",
   "execution_count": 118,
   "id": "57cac77d-0d72-4566-a951-c2c796b44b80",
   "metadata": {},
   "outputs": [
    {
     "data": {
      "text/latex": [
       "$- \\frac{c_{1}^{2}}{24} + \\frac{c_{1}}{24} + \\frac{1}{48}$"
      ],
      "text/plain": [
       "    2          \n",
       "  c₁    c₁   1 \n",
       "- ─── + ── + ──\n",
       "   24   24   48"
      ]
     },
     "execution_count": 118,
     "metadata": {},
     "output_type": "execute_result"
    }
   ],
   "source": [
    "integrate(integrate(integrate(sum(sum(sum(B(i,τ)*A(i,τ,j,σ)*c[j]*A(j,c[j],k,ξ)*c[k] for i in idxset) for j in idxset) for k in idxset),(τ,0,1)),(σ,0,1)),(ξ,0,1))"
   ]
  },
  {
   "cell_type": "code",
   "execution_count": 119,
   "id": "dc68c854-e032-4e40-8f59-0a4f524b61d2",
   "metadata": {},
   "outputs": [
    {
     "data": {
      "text/latex": [
       "$- \\frac{c_{1}^{2} γ_{2}}{36} - \\frac{c_{1}^{2} γ_{3}}{12} - \\frac{c_{1}^{2} γ_{4}}{16} + \\frac{c_{1} γ_{2}}{36} + \\frac{c_{1} γ_{3}}{12} + \\frac{c_{1} γ_{4}}{16} - \\frac{γ_{2}}{144} - \\frac{γ_{3}}{48} - \\frac{γ_{4}}{64} + \\frac{1}{32}$"
      ],
      "text/plain": [
       "    2        2        2                                                \n",
       "  c₁ ⋅γ₂   c₁ ⋅γ₃   c₁ ⋅γ₄   c₁⋅γ₂   c₁⋅γ₃   c₁⋅γ₄    γ₂   γ₃   γ₄   1 \n",
       "- ────── - ────── - ────── + ───── + ───── + ───── - ─── - ── - ── + ──\n",
       "    36       12       16       36      12      16    144   48   64   32"
      ]
     },
     "execution_count": 119,
     "metadata": {},
     "output_type": "execute_result"
    }
   ],
   "source": [
    "integrate(integrate(integrate(sum(sum(sum(B(i,τ)*A(i,c[i],j,σ)*C(j,σ)*A(j,c[j],k,ξ)*c[k] for i in idxset) for j in idxset) for k in idxset),(τ,0,1)),(σ,0,1)),(ξ,0,1))"
   ]
  },
  {
   "cell_type": "code",
   "execution_count": 120,
   "id": "fd572aef-c79c-4ee6-8fab-b5d7d1176393",
   "metadata": {},
   "outputs": [
    {
     "data": {
      "text/latex": [
       "$- \\frac{c_{1}^{2}}{24} + \\frac{c_{1}}{24} + \\frac{1}{48}$"
      ],
      "text/plain": [
       "    2          \n",
       "  c₁    c₁   1 \n",
       "- ─── + ── + ──\n",
       "   24   24   48"
      ]
     },
     "execution_count": 120,
     "metadata": {},
     "output_type": "execute_result"
    }
   ],
   "source": [
    "integrate(integrate(integrate(sum(sum(sum(B(i,τ)*A(i,c[i],j,σ)*c[j]*A(j,c[j],k,ξ)*C(k,ξ) for i in idxset) for j in idxset) for k in idxset),(τ,0,1)),(σ,0,1)),(ξ,0,1))"
   ]
  },
  {
   "cell_type": "code",
   "execution_count": 121,
   "id": "bc9f9776-11cc-472a-8e71-4d2fad1a8a61",
   "metadata": {},
   "outputs": [
    {
     "data": {
      "text/latex": [
       "$\\frac{c_{1} γ_{3}}{360} + \\frac{c_{1} γ_{4}}{240} - \\frac{γ_{3}}{720} - \\frac{γ_{4}}{480} + \\frac{1}{36}$"
      ],
      "text/plain": [
       "c₁⋅γ₃   c₁⋅γ₄    γ₃    γ₄   1 \n",
       "───── + ───── - ─── - ─── + ──\n",
       " 360     240    720   480   36"
      ]
     },
     "execution_count": 121,
     "metadata": {},
     "output_type": "execute_result"
    }
   ],
   "source": [
    "integrate(integrate(integrate(sum(sum(sum(B(i,τ)*A(i,c[i],j,σ)*c[j]*A(j,σ,k,ξ)*c[k] for i in idxset) for j in idxset) for k in idxset),(τ,0,1)),(σ,0,1)),(ξ,0,1))"
   ]
  },
  {
   "cell_type": "markdown",
   "id": "c04831c5-fe75-4238-ab41-b8f288c85288",
   "metadata": {},
   "source": [
    "#### 5-7-4"
   ]
  },
  {
   "cell_type": "code",
   "execution_count": 122,
   "id": "7937a37b-ef85-4d32-abd2-de3e38c044be",
   "metadata": {},
   "outputs": [
    {
     "data": {
      "text/latex": [
       "$- \\frac{c_{1}^{2}}{24} + \\frac{c_{1}}{24} + \\frac{1}{48}$"
      ],
      "text/plain": [
       "    2          \n",
       "  c₁    c₁   1 \n",
       "- ─── + ── + ──\n",
       "   24   24   48"
      ]
     },
     "execution_count": 122,
     "metadata": {},
     "output_type": "execute_result"
    }
   ],
   "source": [
    "integrate(integrate(integrate(sum(sum(sum(B(i,τ)*A(i,c[i],j,σ)*c[j]*A(j,c[j],k,ξ)*c[k] for i in idxset) for j in idxset) for k in idxset),(τ,0,1)),(σ,0,1)),(ξ,0,1))"
   ]
  },
  {
   "cell_type": "markdown",
   "id": "5bc7826c-a810-42df-8924-e1a6cbc85776",
   "metadata": {},
   "source": [
    "### 5-8 (Table A.9)"
   ]
  },
  {
   "cell_type": "code",
   "execution_count": 123,
   "id": "6a31bff3-68de-4140-bb36-dc541fd051a5",
   "metadata": {},
   "outputs": [
    {
     "data": {
      "text/latex": [
       "$\\frac{α}{1800} + \\frac{1}{72}$"
      ],
      "text/plain": [
       " α     1 \n",
       "──── + ──\n",
       "1800   72"
      ]
     },
     "execution_count": 123,
     "metadata": {},
     "output_type": "execute_result"
    }
   ],
   "source": [
    "integrate(integrate(integrate(sum(sum(sum(B(i,τ)*A(i,τ,j,σ)*A(j,σ,k,ξ)*C(k,ξ)^2 for i in idxset) for j in idxset) for k in idxset),(τ,0,1)),(σ,0,1)),(ξ,0,1))"
   ]
  },
  {
   "cell_type": "markdown",
   "id": "27b1c55d-6797-43d0-b318-2011bef9efd8",
   "metadata": {},
   "source": [
    "#### 5-8-1"
   ]
  },
  {
   "cell_type": "code",
   "execution_count": 124,
   "id": "13c1ca34-8eb5-4971-a800-742f7bf7aaa0",
   "metadata": {},
   "outputs": [
    {
     "data": {
      "text/latex": [
       "$\\frac{α}{1800} + \\frac{1}{72}$"
      ],
      "text/plain": [
       " α     1 \n",
       "──── + ──\n",
       "1800   72"
      ]
     },
     "execution_count": 124,
     "metadata": {},
     "output_type": "execute_result"
    }
   ],
   "source": [
    "integrate(integrate(integrate(sum(sum(sum(B(i,τ)*A(i,c[i],j,σ)*A(j,σ,k,ξ)*C(k,ξ)^2 for i in idxset) for j in idxset) for k in idxset),(τ,0,1)),(σ,0,1)),(ξ,0,1))"
   ]
  },
  {
   "cell_type": "code",
   "execution_count": 125,
   "id": "2be9f4fc-9fe1-4f5f-9e66-ea40f8af0335",
   "metadata": {},
   "outputs": [
    {
     "data": {
      "text/latex": [
       "$- \\frac{c_{1}^{2} α}{180} + \\frac{c_{1} α}{180} + \\frac{1}{72}$"
      ],
      "text/plain": [
       "    2              \n",
       "  c₁ ⋅α   c₁⋅α   1 \n",
       "- ───── + ──── + ──\n",
       "   180    180    72"
      ]
     },
     "execution_count": 125,
     "metadata": {},
     "output_type": "execute_result"
    }
   ],
   "source": [
    "integrate(integrate(integrate(sum(sum(sum(B(i,τ)*A(i,τ,j,σ)*A(j,c[j],k,ξ)*C(k,ξ)^2 for i in idxset) for j in idxset) for k in idxset),(τ,0,1)),(σ,0,1)),(ξ,0,1))"
   ]
  },
  {
   "cell_type": "code",
   "execution_count": 126,
   "id": "56549a21-5db9-46f3-bcf9-e277f84a7dbf",
   "metadata": {},
   "outputs": [
    {
     "data": {
      "text/latex": [
       "$- \\frac{c_{1} γ_{3}}{360} - \\frac{c_{1} γ_{4}}{240} + \\frac{γ_{3}}{720} + \\frac{γ_{4}}{480} + \\frac{1}{72}$"
      ],
      "text/plain": [
       "  c₁⋅γ₃   c₁⋅γ₄    γ₃    γ₄   1 \n",
       "- ───── - ───── + ─── + ─── + ──\n",
       "   360     240    720   480   72"
      ]
     },
     "execution_count": 126,
     "metadata": {},
     "output_type": "execute_result"
    }
   ],
   "source": [
    "integrate(integrate(integrate(sum(sum(sum(B(i,τ)*A(i,τ,j,σ)*A(j,σ,k,ξ)*C(k,ξ)*c[k] for i in idxset) for j in idxset) for k in idxset),(τ,0,1)),(σ,0,1)),(ξ,0,1))"
   ]
  },
  {
   "cell_type": "markdown",
   "id": "b4b77d6e-6b61-48ef-8af0-382d2a834578",
   "metadata": {},
   "source": [
    "#### 5-8-2"
   ]
  },
  {
   "cell_type": "code",
   "execution_count": 127,
   "id": "9fdff194-deb5-4de5-abd0-7b4f5c218a9a",
   "metadata": {},
   "outputs": [
    {
     "data": {
      "text/latex": [
       "$- \\frac{c_{1}^{2} α}{180} + \\frac{c_{1} α}{180} + \\frac{1}{72}$"
      ],
      "text/plain": [
       "    2              \n",
       "  c₁ ⋅α   c₁⋅α   1 \n",
       "- ───── + ──── + ──\n",
       "   180    180    72"
      ]
     },
     "execution_count": 127,
     "metadata": {},
     "output_type": "execute_result"
    }
   ],
   "source": [
    "integrate(integrate(integrate(sum(sum(sum(B(i,τ)*A(i,c[i],j,σ)*A(j,c[j],k,ξ)*C(k,ξ)^2 for i in idxset) for j in idxset) for k in idxset),(τ,0,1)),(σ,0,1)),(ξ,0,1))"
   ]
  },
  {
   "cell_type": "code",
   "execution_count": 128,
   "id": "24b12ab5-00dd-4cd2-a55d-d7ae22a6b187",
   "metadata": {},
   "outputs": [
    {
     "data": {
      "text/latex": [
       "$- \\frac{c_{1} γ_{3}}{360} - \\frac{c_{1} γ_{4}}{240} + \\frac{γ_{3}}{720} + \\frac{γ_{4}}{480} + \\frac{1}{72}$"
      ],
      "text/plain": [
       "  c₁⋅γ₃   c₁⋅γ₄    γ₃    γ₄   1 \n",
       "- ───── - ───── + ─── + ─── + ──\n",
       "   360     240    720   480   72"
      ]
     },
     "execution_count": 128,
     "metadata": {},
     "output_type": "execute_result"
    }
   ],
   "source": [
    "integrate(integrate(integrate(sum(sum(sum(B(i,τ)*A(i,c[i],j,σ)*A(j,σ,k,ξ)*C(k,ξ)*c[k] for i in idxset) for j in idxset) for k in idxset),(τ,0,1)),(σ,0,1)),(ξ,0,1))"
   ]
  },
  {
   "cell_type": "code",
   "execution_count": 129,
   "id": "96f9bee5-f0ac-4028-8be6-5e64e60ab3e8",
   "metadata": {},
   "outputs": [
    {
     "data": {
      "text/latex": [
       "$\\frac{c_{1}^{3} γ_{3}}{36} + \\frac{c_{1}^{3} γ_{4}}{24} - \\frac{c_{1}^{2} γ_{3}}{24} - \\frac{c_{1}^{2} γ_{4}}{16} + \\frac{c_{1} γ_{3}}{72} + \\frac{c_{1} γ_{4}}{48} + \\frac{1}{72}$"
      ],
      "text/plain": [
       "  3        3        2        2                        \n",
       "c₁ ⋅γ₃   c₁ ⋅γ₄   c₁ ⋅γ₃   c₁ ⋅γ₄   c₁⋅γ₃   c₁⋅γ₄   1 \n",
       "────── + ────── - ────── - ────── + ───── + ───── + ──\n",
       "  36       24       24       16       72      48    72"
      ]
     },
     "execution_count": 129,
     "metadata": {},
     "output_type": "execute_result"
    }
   ],
   "source": [
    "integrate(integrate(integrate(sum(sum(sum(B(i,τ)*A(i,τ,j,σ)*A(j,c[j],k,ξ)*C(k,ξ)*c[k] for i in idxset) for j in idxset) for k in idxset),(τ,0,1)),(σ,0,1)),(ξ,0,1))"
   ]
  },
  {
   "cell_type": "code",
   "execution_count": 130,
   "id": "7ef9f839-42fa-4ccd-840c-aa5988b7136a",
   "metadata": {},
   "outputs": [
    {
     "data": {
      "text/latex": [
       "$\\frac{c_{1}^{2} γ_{1}}{60} + \\frac{c_{1}^{2} γ_{3}}{60} + \\frac{c_{1}^{2} γ_{4}}{60} - \\frac{c_{1} γ_{1}}{60} - \\frac{c_{1} γ_{3}}{60} - \\frac{c_{1} γ_{4}}{60} + \\frac{γ_{1}}{240} + \\frac{γ_{3}}{240} + \\frac{γ_{4}}{240} + \\frac{1}{72}$"
      ],
      "text/plain": [
       "  2        2        2                                                  \n",
       "c₁ ⋅γ₁   c₁ ⋅γ₃   c₁ ⋅γ₄   c₁⋅γ₁   c₁⋅γ₃   c₁⋅γ₄    γ₁    γ₃    γ₄   1 \n",
       "────── + ────── + ────── - ───── - ───── - ───── + ─── + ─── + ─── + ──\n",
       "  60       60       60       60      60      60    240   240   240   72"
      ]
     },
     "execution_count": 130,
     "metadata": {},
     "output_type": "execute_result"
    }
   ],
   "source": [
    "integrate(integrate(integrate(sum(sum(sum(B(i,τ)*A(i,τ,j,σ)*A(j,σ,k,ξ)*c[k]^2 for i in idxset) for j in idxset) for k in idxset),(τ,0,1)),(σ,0,1)),(ξ,0,1))"
   ]
  },
  {
   "cell_type": "markdown",
   "id": "8102265f-2aec-466d-b4e9-02a97ee40dd9",
   "metadata": {},
   "source": [
    "#### 5-8-3"
   ]
  },
  {
   "cell_type": "code",
   "execution_count": 131,
   "id": "ebeeb1f7-a090-4e46-b6e6-5300f7aeca8d",
   "metadata": {},
   "outputs": [
    {
     "data": {
      "text/latex": [
       "$- \\frac{c_{1}^{4} γ_{1}}{6} - \\frac{c_{1}^{4} γ_{3}}{6} - \\frac{c_{1}^{4} γ_{4}}{6} + \\frac{c_{1}^{3} γ_{1}}{3} + \\frac{c_{1}^{3} γ_{3}}{3} + \\frac{c_{1}^{3} γ_{4}}{3} - \\frac{5 c_{1}^{2} γ_{1}}{24} - \\frac{5 c_{1}^{2} γ_{3}}{24} - \\frac{5 c_{1}^{2} γ_{4}}{24} + \\frac{c_{1} γ_{1}}{24} + \\frac{c_{1} γ_{3}}{24} + \\frac{c_{1} γ_{4}}{24} + \\frac{1}{72}$"
      ],
      "text/plain": [
       "    4        4        4        3        3        3          2          2      \n",
       "  c₁ ⋅γ₁   c₁ ⋅γ₃   c₁ ⋅γ₄   c₁ ⋅γ₁   c₁ ⋅γ₃   c₁ ⋅γ₄   5⋅c₁ ⋅γ₁   5⋅c₁ ⋅γ₃   \n",
       "- ────── - ────── - ────── + ────── + ────── + ────── - ──────── - ──────── - \n",
       "    6        6        6        3        3        3         24         24      \n",
       "\n",
       "    2                                \n",
       "5⋅c₁ ⋅γ₄   c₁⋅γ₁   c₁⋅γ₃   c₁⋅γ₄   1 \n",
       "──────── + ───── + ───── + ───── + ──\n",
       "   24        24      24      24    72"
      ]
     },
     "execution_count": 131,
     "metadata": {},
     "output_type": "execute_result"
    }
   ],
   "source": [
    "integrate(integrate(integrate(sum(sum(sum(B(i,τ)*A(i,τ,j,σ)*A(j,c[j],k,ξ)*c[k]^2 for i in idxset) for j in idxset) for k in idxset),(τ,0,1)),(σ,0,1)),(ξ,0,1))"
   ]
  },
  {
   "cell_type": "code",
   "execution_count": 132,
   "id": "366d4024-7848-497e-acc8-1ebbab885fc7",
   "metadata": {},
   "outputs": [
    {
     "data": {
      "text/latex": [
       "$\\frac{c_{1}^{2} γ_{1}}{60} + \\frac{c_{1}^{2} γ_{3}}{60} + \\frac{c_{1}^{2} γ_{4}}{60} - \\frac{c_{1} γ_{1}}{60} - \\frac{c_{1} γ_{3}}{60} - \\frac{c_{1} γ_{4}}{60} + \\frac{γ_{1}}{240} + \\frac{γ_{3}}{240} + \\frac{γ_{4}}{240} + \\frac{1}{72}$"
      ],
      "text/plain": [
       "  2        2        2                                                  \n",
       "c₁ ⋅γ₁   c₁ ⋅γ₃   c₁ ⋅γ₄   c₁⋅γ₁   c₁⋅γ₃   c₁⋅γ₄    γ₁    γ₃    γ₄   1 \n",
       "────── + ────── + ────── - ───── - ───── - ───── + ─── + ─── + ─── + ──\n",
       "  60       60       60       60      60      60    240   240   240   72"
      ]
     },
     "execution_count": 132,
     "metadata": {},
     "output_type": "execute_result"
    }
   ],
   "source": [
    "integrate(integrate(integrate(sum(sum(sum(B(i,τ)*A(i,c[i],j,σ)*A(j,σ,k,ξ)*c[k]^2 for i in idxset) for j in idxset) for k in idxset),(τ,0,1)),(σ,0,1)),(ξ,0,1))"
   ]
  },
  {
   "cell_type": "code",
   "execution_count": 133,
   "id": "17293040-1c36-47ba-ac98-d02177c83cb8",
   "metadata": {},
   "outputs": [
    {
     "data": {
      "text/latex": [
       "$\\frac{c_{1}^{3} γ_{3}}{36} + \\frac{c_{1}^{3} γ_{4}}{24} - \\frac{c_{1}^{2} γ_{3}}{24} - \\frac{c_{1}^{2} γ_{4}}{16} + \\frac{c_{1} γ_{3}}{72} + \\frac{c_{1} γ_{4}}{48} + \\frac{1}{72}$"
      ],
      "text/plain": [
       "  3        3        2        2                        \n",
       "c₁ ⋅γ₃   c₁ ⋅γ₄   c₁ ⋅γ₃   c₁ ⋅γ₄   c₁⋅γ₃   c₁⋅γ₄   1 \n",
       "────── + ────── - ────── - ────── + ───── + ───── + ──\n",
       "  36       24       24       16       72      48    72"
      ]
     },
     "execution_count": 133,
     "metadata": {},
     "output_type": "execute_result"
    }
   ],
   "source": [
    "integrate(integrate(integrate(sum(sum(sum(B(i,τ)*A(i,c[i],j,σ)*A(j,c[j],k,ξ)*C(k,ξ)*c[k] for i in idxset) for j in idxset) for k in idxset),(τ,0,1)),(σ,0,1)),(ξ,0,1))"
   ]
  },
  {
   "cell_type": "markdown",
   "id": "a40e6124-2615-470d-831a-8e41af1c0cbe",
   "metadata": {},
   "source": [
    "#### 5-8-4"
   ]
  },
  {
   "cell_type": "code",
   "execution_count": null,
   "id": "4c6be63c-e3cd-428e-9eff-d2324e1e365e",
   "metadata": {},
   "outputs": [],
   "source": [
    "integrate(integrate(integrate(sum(sum(sum(B(i,τ)*A(i,c[i],j,σ)*A(j,c[j],k,ξ)*c[k]^2 for i in idxset) for j in idxset) for k in idxset),(τ,0,1)),(σ,0,1)),(ξ,0,1))"
   ]
  },
  {
   "cell_type": "markdown",
   "id": "f43f0c21-03d5-4771-bffb-e2db777ba48c",
   "metadata": {},
   "source": [
    "### 5-9 (Table A.10)"
   ]
  },
  {
   "cell_type": "code",
   "execution_count": null,
   "id": "27e34c7b-eeb8-40a6-be1b-b271f9610d25",
   "metadata": {},
   "outputs": [],
   "source": [
    "integrate(integrate(integrate(integrate(sum(sum(sum(sum(B(i,τ)*A(i,τ,j,σ)*A(j,σ,k,ξ)*A(k,ξ,l,ζ)*C(l,ζ) for i in idxset) for j in idxset) for k in idxset) for l in idxset),(τ,0,1)),(σ,0,1)),(ξ,0,1)),(ζ,0,1))"
   ]
  },
  {
   "cell_type": "markdown",
   "id": "f1b0779c-24c4-4125-83a6-dcd218af0761",
   "metadata": {},
   "source": [
    "#### 5-9-1"
   ]
  },
  {
   "cell_type": "code",
   "execution_count": 136,
   "id": "6e723778-234a-4b31-b328-0f0ec9026866",
   "metadata": {},
   "outputs": [
    {
     "data": {
      "text/latex": [
       "$\\frac{α}{3600} + \\frac{1}{144}$"
      ],
      "text/plain": [
       " α      1 \n",
       "──── + ───\n",
       "3600   144"
      ]
     },
     "execution_count": 136,
     "metadata": {},
     "output_type": "execute_result"
    }
   ],
   "source": [
    "integrate(integrate(integrate(integrate(sum(sum(sum(sum(B(i,τ)*A(i,c[i],j,σ)*A(j,σ,k,ξ)*A(k,ξ,l,ζ)*C(l,ζ) for i in idxset) for j in idxset) for k in idxset) for l in idxset),(τ,0,1)),(σ,0,1)),(ξ,0,1)),(ζ,0,1))"
   ]
  },
  {
   "cell_type": "code",
   "execution_count": 137,
   "id": "5684bf02-91bd-473e-82e6-f6b3dd064157",
   "metadata": {},
   "outputs": [
    {
     "data": {
      "text/latex": [
       "$- \\frac{c_{1}^{2} α}{360} + \\frac{c_{1} α}{360} + \\frac{1}{144}$"
      ],
      "text/plain": [
       "    2               \n",
       "  c₁ ⋅α   c₁⋅α    1 \n",
       "- ───── + ──── + ───\n",
       "   360    360    144"
      ]
     },
     "execution_count": 137,
     "metadata": {},
     "output_type": "execute_result"
    }
   ],
   "source": [
    "integrate(integrate(integrate(integrate(sum(sum(sum(sum(B(i,τ)*A(i,τ,j,σ)*A(j,c[j],k,ξ)*A(k,ξ,l,ζ)*C(l,ζ) for i in idxset) for j in idxset) for k in idxset) for l in idxset),(τ,0,1)),(σ,0,1)),(ξ,0,1)),(ζ,0,1))"
   ]
  },
  {
   "cell_type": "code",
   "execution_count": 138,
   "id": "76f968bb-2f20-4d45-a566-f2740409d33b",
   "metadata": {},
   "outputs": [
    {
     "data": {
      "text/latex": [
       "$\\frac{c_{1}^{2} γ_{1}}{120} + \\frac{c_{1}^{2} γ_{3}}{120} + \\frac{c_{1}^{2} γ_{4}}{120} - \\frac{c_{1} γ_{1}}{120} - \\frac{c_{1} γ_{3}}{120} - \\frac{c_{1} γ_{4}}{120} + \\frac{γ_{1}}{480} + \\frac{γ_{3}}{480} + \\frac{γ_{4}}{480} + \\frac{1}{144}$"
      ],
      "text/plain": [
       "  2        2        2                                                   \n",
       "c₁ ⋅γ₁   c₁ ⋅γ₃   c₁ ⋅γ₄   c₁⋅γ₁   c₁⋅γ₃   c₁⋅γ₄    γ₁    γ₃    γ₄    1 \n",
       "────── + ────── + ────── - ───── - ───── - ───── + ─── + ─── + ─── + ───\n",
       " 120      120      120      120     120     120    480   480   480   144"
      ]
     },
     "execution_count": 138,
     "metadata": {},
     "output_type": "execute_result"
    }
   ],
   "source": [
    "integrate(integrate(integrate(integrate(sum(sum(sum(sum(B(i,τ)*A(i,τ,j,σ)*A(j,σ,k,ξ)*A(k,c[k],l,ζ)*C(l,ζ) for i in idxset) for j in idxset) for k in idxset) for l in idxset),(τ,0,1)),(σ,0,1)),(ξ,0,1)),(ζ,0,1))"
   ]
  },
  {
   "cell_type": "code",
   "execution_count": 139,
   "id": "5823280f-905e-4c88-a612-fdc340fc29b8",
   "metadata": {},
   "outputs": [
    {
     "data": {
      "text/latex": [
       "$\\frac{α}{3600} + \\frac{1}{144}$"
      ],
      "text/plain": [
       " α      1 \n",
       "──── + ───\n",
       "3600   144"
      ]
     },
     "execution_count": 139,
     "metadata": {},
     "output_type": "execute_result"
    }
   ],
   "source": [
    "integrate(integrate(integrate(integrate(sum(sum(sum(sum(B(i,τ)*A(i,τ,j,σ)*A(j,σ,k,ξ)*A(k,ξ,l,ζ)*c[l] for i in idxset) for j in idxset) for k in idxset) for l in idxset),(τ,0,1)),(σ,0,1)),(ξ,0,1)),(ζ,0,1))"
   ]
  },
  {
   "cell_type": "markdown",
   "id": "1994d381-a645-4898-a70c-74a455fc14f0",
   "metadata": {},
   "source": [
    "#### 5-9-2"
   ]
  },
  {
   "cell_type": "code",
   "execution_count": 140,
   "id": "dc89a4d9-3294-4f8f-8727-ff36e9bb7adb",
   "metadata": {},
   "outputs": [
    {
     "data": {
      "text/latex": [
       "$- \\frac{c_{1}^{2} α}{360} + \\frac{c_{1} α}{360} + \\frac{1}{144}$"
      ],
      "text/plain": [
       "    2               \n",
       "  c₁ ⋅α   c₁⋅α    1 \n",
       "- ───── + ──── + ───\n",
       "   360    360    144"
      ]
     },
     "execution_count": 140,
     "metadata": {},
     "output_type": "execute_result"
    }
   ],
   "source": [
    "integrate(integrate(integrate(integrate(sum(sum(sum(sum(B(i,τ)*A(i,c[i],j,σ)*A(j,c[j],k,ξ)*A(k,ξ,l,ζ)*C(l,ζ) for i in idxset) for j in idxset) for k in idxset) for l in idxset),(τ,0,1)),(σ,0,1)),(ξ,0,1)),(ζ,0,1))"
   ]
  },
  {
   "cell_type": "code",
   "execution_count": 141,
   "id": "782a38e1-fec6-4c9b-abe2-66da954e56ad",
   "metadata": {},
   "outputs": [
    {
     "data": {
      "text/latex": [
       "$\\frac{c_{1}^{2} γ_{1}}{120} + \\frac{c_{1}^{2} γ_{3}}{120} + \\frac{c_{1}^{2} γ_{4}}{120} - \\frac{c_{1} γ_{1}}{120} - \\frac{c_{1} γ_{3}}{120} - \\frac{c_{1} γ_{4}}{120} + \\frac{γ_{1}}{480} + \\frac{γ_{3}}{480} + \\frac{γ_{4}}{480} + \\frac{1}{144}$"
      ],
      "text/plain": [
       "  2        2        2                                                   \n",
       "c₁ ⋅γ₁   c₁ ⋅γ₃   c₁ ⋅γ₄   c₁⋅γ₁   c₁⋅γ₃   c₁⋅γ₄    γ₁    γ₃    γ₄    1 \n",
       "────── + ────── + ────── - ───── - ───── - ───── + ─── + ─── + ─── + ───\n",
       " 120      120      120      120     120     120    480   480   480   144"
      ]
     },
     "execution_count": 141,
     "metadata": {},
     "output_type": "execute_result"
    }
   ],
   "source": [
    "integrate(integrate(integrate(integrate(sum(sum(sum(sum(B(i,τ)*A(i,c[i],j,σ)*A(j,σ,k,ξ)*A(k,c[k],l,ζ)*C(l,ζ) for i in idxset) for j in idxset) for k in idxset) for l in idxset),(τ,0,1)),(σ,0,1)),(ξ,0,1)),(ζ,0,1))"
   ]
  },
  {
   "cell_type": "code",
   "execution_count": 142,
   "id": "729c69aa-6d64-4034-9d49-4cca8cb471de",
   "metadata": {},
   "outputs": [
    {
     "data": {
      "text/latex": [
       "$\\frac{α}{3600} + \\frac{1}{144}$"
      ],
      "text/plain": [
       " α      1 \n",
       "──── + ───\n",
       "3600   144"
      ]
     },
     "execution_count": 142,
     "metadata": {},
     "output_type": "execute_result"
    }
   ],
   "source": [
    "integrate(integrate(integrate(integrate(sum(sum(sum(sum(B(i,τ)*A(i,c[i],j,σ)*A(j,σ,k,ξ)*A(k,ξ,l,ζ)*c[l] for i in idxset) for j in idxset) for k in idxset) for l in idxset),(τ,0,1)),(σ,0,1)),(ξ,0,1)),(ζ,0,1))"
   ]
  },
  {
   "cell_type": "code",
   "execution_count": 143,
   "id": "ab30a020-9b62-4c46-b11b-3a89ea7e426c",
   "metadata": {},
   "outputs": [
    {
     "data": {
      "text/latex": [
       "$- \\frac{c_{1}^{4} γ_{1}}{12} - \\frac{c_{1}^{4} γ_{3}}{12} - \\frac{c_{1}^{4} γ_{4}}{12} + \\frac{c_{1}^{3} γ_{1}}{6} + \\frac{c_{1}^{3} γ_{3}}{6} + \\frac{c_{1}^{3} γ_{4}}{6} - \\frac{5 c_{1}^{2} γ_{1}}{48} - \\frac{5 c_{1}^{2} γ_{3}}{48} - \\frac{5 c_{1}^{2} γ_{4}}{48} + \\frac{c_{1} γ_{1}}{48} + \\frac{c_{1} γ_{3}}{48} + \\frac{c_{1} γ_{4}}{48} + \\frac{1}{144}$"
      ],
      "text/plain": [
       "    4        4        4        3        3        3          2          2      \n",
       "  c₁ ⋅γ₁   c₁ ⋅γ₃   c₁ ⋅γ₄   c₁ ⋅γ₁   c₁ ⋅γ₃   c₁ ⋅γ₄   5⋅c₁ ⋅γ₁   5⋅c₁ ⋅γ₃   \n",
       "- ────── - ────── - ────── + ────── + ────── + ────── - ──────── - ──────── - \n",
       "    12       12       12       6        6        6         48         48      \n",
       "\n",
       "    2                                 \n",
       "5⋅c₁ ⋅γ₄   c₁⋅γ₁   c₁⋅γ₃   c₁⋅γ₄    1 \n",
       "──────── + ───── + ───── + ───── + ───\n",
       "   48        48      48      48    144"
      ]
     },
     "execution_count": 143,
     "metadata": {},
     "output_type": "execute_result"
    }
   ],
   "source": [
    "integrate(integrate(integrate(integrate(sum(sum(sum(sum(B(i,τ)*A(i,τ,j,σ)*A(j,c[j],k,ξ)*A(k,c[k],l,ζ)*C(l,ζ) for i in idxset) for j in idxset) for k in idxset) for l in idxset),(τ,0,1)),(σ,0,1)),(ξ,0,1)),(ζ,0,1))"
   ]
  },
  {
   "cell_type": "code",
   "execution_count": 144,
   "id": "7e7427d8-70b1-433c-a751-ce493932689a",
   "metadata": {},
   "outputs": [
    {
     "data": {
      "text/latex": [
       "$- \\frac{c_{1}^{2} α}{360} + \\frac{c_{1} α}{360} + \\frac{1}{144}$"
      ],
      "text/plain": [
       "    2               \n",
       "  c₁ ⋅α   c₁⋅α    1 \n",
       "- ───── + ──── + ───\n",
       "   360    360    144"
      ]
     },
     "execution_count": 144,
     "metadata": {},
     "output_type": "execute_result"
    }
   ],
   "source": [
    "integrate(integrate(integrate(integrate(sum(sum(sum(sum(B(i,τ)*A(i,τ,j,σ)*A(j,c[j],k,ξ)*A(k,ξ,l,ζ)*c[l] for i in idxset) for j in idxset) for k in idxset) for l in idxset),(τ,0,1)),(σ,0,1)),(ξ,0,1)),(ζ,0,1))"
   ]
  },
  {
   "cell_type": "code",
   "execution_count": 145,
   "id": "10b960e6-96bb-4001-88c4-9f51f63c88b1",
   "metadata": {},
   "outputs": [
    {
     "data": {
      "text/latex": [
       "$\\frac{c_{1}^{2} γ_{1}}{120} + \\frac{c_{1}^{2} γ_{3}}{120} + \\frac{c_{1}^{2} γ_{4}}{120} - \\frac{c_{1} γ_{1}}{120} - \\frac{c_{1} γ_{3}}{120} - \\frac{c_{1} γ_{4}}{120} + \\frac{γ_{1}}{480} + \\frac{γ_{3}}{480} + \\frac{γ_{4}}{480} + \\frac{1}{144}$"
      ],
      "text/plain": [
       "  2        2        2                                                   \n",
       "c₁ ⋅γ₁   c₁ ⋅γ₃   c₁ ⋅γ₄   c₁⋅γ₁   c₁⋅γ₃   c₁⋅γ₄    γ₁    γ₃    γ₄    1 \n",
       "────── + ────── + ────── - ───── - ───── - ───── + ─── + ─── + ─── + ───\n",
       " 120      120      120      120     120     120    480   480   480   144"
      ]
     },
     "execution_count": 145,
     "metadata": {},
     "output_type": "execute_result"
    }
   ],
   "source": [
    "integrate(integrate(integrate(integrate(sum(sum(sum(sum(B(i,τ)*A(i,τ,j,σ)*A(j,σ,k,ξ)*A(k,c[k],l,ζ)*c[l] for i in idxset) for j in idxset) for k in idxset) for l in idxset),(τ,0,1)),(σ,0,1)),(ξ,0,1)),(ζ,0,1))"
   ]
  },
  {
   "cell_type": "markdown",
   "id": "4b550dfa-638f-4b78-a966-deafa50a229e",
   "metadata": {},
   "source": [
    "#### 5-9-3"
   ]
  },
  {
   "cell_type": "code",
   "execution_count": 146,
   "id": "4d4fb8d5-3cdc-4337-b93a-5fbc3a6e8354",
   "metadata": {},
   "outputs": [
    {
     "data": {
      "text/latex": [
       "$- \\frac{c_{1}^{4} γ_{1}}{12} - \\frac{c_{1}^{4} γ_{3}}{12} - \\frac{c_{1}^{4} γ_{4}}{12} + \\frac{c_{1}^{3} γ_{1}}{6} + \\frac{c_{1}^{3} γ_{3}}{6} + \\frac{c_{1}^{3} γ_{4}}{6} - \\frac{5 c_{1}^{2} γ_{1}}{48} - \\frac{5 c_{1}^{2} γ_{3}}{48} - \\frac{5 c_{1}^{2} γ_{4}}{48} + \\frac{c_{1} γ_{1}}{48} + \\frac{c_{1} γ_{3}}{48} + \\frac{c_{1} γ_{4}}{48} + \\frac{1}{144}$"
      ],
      "text/plain": [
       "    4        4        4        3        3        3          2          2      \n",
       "  c₁ ⋅γ₁   c₁ ⋅γ₃   c₁ ⋅γ₄   c₁ ⋅γ₁   c₁ ⋅γ₃   c₁ ⋅γ₄   5⋅c₁ ⋅γ₁   5⋅c₁ ⋅γ₃   \n",
       "- ────── - ────── - ────── + ────── + ────── + ────── - ──────── - ──────── - \n",
       "    12       12       12       6        6        6         48         48      \n",
       "\n",
       "    2                                 \n",
       "5⋅c₁ ⋅γ₄   c₁⋅γ₁   c₁⋅γ₃   c₁⋅γ₄    1 \n",
       "──────── + ───── + ───── + ───── + ───\n",
       "   48        48      48      48    144"
      ]
     },
     "execution_count": 146,
     "metadata": {},
     "output_type": "execute_result"
    }
   ],
   "source": [
    "integrate(integrate(integrate(integrate(sum(sum(sum(sum(B(i,τ)*A(i,τ,j,σ)*A(j,c[j],k,ξ)*A(k,c[k],l,ζ)*c[l] for i in idxset) for j in idxset) for k in idxset) for l in idxset),(τ,0,1)),(σ,0,1)),(ξ,0,1)),(ζ,0,1))"
   ]
  },
  {
   "cell_type": "code",
   "execution_count": 147,
   "id": "f498c793-b9b9-441c-85d9-dd6d8faae229",
   "metadata": {},
   "outputs": [
    {
     "data": {
      "text/latex": [
       "$\\frac{c_{1}^{2} γ_{1}}{120} + \\frac{c_{1}^{2} γ_{3}}{120} + \\frac{c_{1}^{2} γ_{4}}{120} - \\frac{c_{1} γ_{1}}{120} - \\frac{c_{1} γ_{3}}{120} - \\frac{c_{1} γ_{4}}{120} + \\frac{γ_{1}}{480} + \\frac{γ_{3}}{480} + \\frac{γ_{4}}{480} + \\frac{1}{144}$"
      ],
      "text/plain": [
       "  2        2        2                                                   \n",
       "c₁ ⋅γ₁   c₁ ⋅γ₃   c₁ ⋅γ₄   c₁⋅γ₁   c₁⋅γ₃   c₁⋅γ₄    γ₁    γ₃    γ₄    1 \n",
       "────── + ────── + ────── - ───── - ───── - ───── + ─── + ─── + ─── + ───\n",
       " 120      120      120      120     120     120    480   480   480   144"
      ]
     },
     "execution_count": 147,
     "metadata": {},
     "output_type": "execute_result"
    }
   ],
   "source": [
    "integrate(integrate(integrate(integrate(sum(sum(sum(sum(B(i,τ)*A(i,c[i],j,σ)*A(j,σ,k,ξ)*A(k,c[k],l,ζ)*c[l] for i in idxset) for j in idxset) for k in idxset) for l in idxset),(τ,0,1)),(σ,0,1)),(ξ,0,1)),(ζ,0,1))"
   ]
  },
  {
   "cell_type": "code",
   "execution_count": 148,
   "id": "46367538-8e38-4103-9bd6-e83479dd7a16",
   "metadata": {},
   "outputs": [
    {
     "data": {
      "text/latex": [
       "$- \\frac{c_{1}^{2} α}{360} + \\frac{c_{1} α}{360} + \\frac{1}{144}$"
      ],
      "text/plain": [
       "    2               \n",
       "  c₁ ⋅α   c₁⋅α    1 \n",
       "- ───── + ──── + ───\n",
       "   360    360    144"
      ]
     },
     "execution_count": 148,
     "metadata": {},
     "output_type": "execute_result"
    }
   ],
   "source": [
    "integrate(integrate(integrate(integrate(sum(sum(sum(sum(B(i,τ)*A(i,c[i],j,σ)*A(j,c[j],k,ξ)*A(k,ξ,l,ζ)*c[l] for i in idxset) for j in idxset) for k in idxset) for l in idxset),(τ,0,1)),(σ,0,1)),(ξ,0,1)),(ζ,0,1))"
   ]
  },
  {
   "cell_type": "code",
   "execution_count": 149,
   "id": "3457e0a9-be5d-43b1-9414-2b9f81d88fc8",
   "metadata": {},
   "outputs": [
    {
     "data": {
      "text/latex": [
       "$- \\frac{c_{1}^{4} γ_{1}}{12} - \\frac{c_{1}^{4} γ_{3}}{12} - \\frac{c_{1}^{4} γ_{4}}{12} + \\frac{c_{1}^{3} γ_{1}}{6} + \\frac{c_{1}^{3} γ_{3}}{6} + \\frac{c_{1}^{3} γ_{4}}{6} - \\frac{5 c_{1}^{2} γ_{1}}{48} - \\frac{5 c_{1}^{2} γ_{3}}{48} - \\frac{5 c_{1}^{2} γ_{4}}{48} + \\frac{c_{1} γ_{1}}{48} + \\frac{c_{1} γ_{3}}{48} + \\frac{c_{1} γ_{4}}{48} + \\frac{1}{144}$"
      ],
      "text/plain": [
       "    4        4        4        3        3        3          2          2      \n",
       "  c₁ ⋅γ₁   c₁ ⋅γ₃   c₁ ⋅γ₄   c₁ ⋅γ₁   c₁ ⋅γ₃   c₁ ⋅γ₄   5⋅c₁ ⋅γ₁   5⋅c₁ ⋅γ₃   \n",
       "- ────── - ────── - ────── + ────── + ────── + ────── - ──────── - ──────── - \n",
       "    12       12       12       6        6        6         48         48      \n",
       "\n",
       "    2                                 \n",
       "5⋅c₁ ⋅γ₄   c₁⋅γ₁   c₁⋅γ₃   c₁⋅γ₄    1 \n",
       "──────── + ───── + ───── + ───── + ───\n",
       "   48        48      48      48    144"
      ]
     },
     "execution_count": 149,
     "metadata": {},
     "output_type": "execute_result"
    }
   ],
   "source": [
    "integrate(integrate(integrate(integrate(sum(sum(sum(sum(B(i,τ)*A(i,c[i],j,σ)*A(j,c[j],k,ξ)*A(k,c[k],l,ζ)*C(l,ζ) for i in idxset) for j in idxset) for k in idxset) for l in idxset),(τ,0,1)),(σ,0,1)),(ξ,0,1)),(ζ,0,1))"
   ]
  },
  {
   "cell_type": "markdown",
   "id": "3e6bc7a7-d955-40bf-9620-b9646073fa1e",
   "metadata": {},
   "source": [
    "#### 5-9-4"
   ]
  },
  {
   "cell_type": "code",
   "execution_count": 151,
   "id": "d1c46fcb-e486-4bac-90d8-6df2aded2f1d",
   "metadata": {},
   "outputs": [
    {
     "data": {
      "text/latex": [
       "$- \\frac{c_{1}^{4} γ_{1}}{12} - \\frac{c_{1}^{4} γ_{3}}{12} - \\frac{c_{1}^{4} γ_{4}}{12} + \\frac{c_{1}^{3} γ_{1}}{6} + \\frac{c_{1}^{3} γ_{3}}{6} + \\frac{c_{1}^{3} γ_{4}}{6} - \\frac{5 c_{1}^{2} γ_{1}}{48} - \\frac{5 c_{1}^{2} γ_{3}}{48} - \\frac{5 c_{1}^{2} γ_{4}}{48} + \\frac{c_{1} γ_{1}}{48} + \\frac{c_{1} γ_{3}}{48} + \\frac{c_{1} γ_{4}}{48} + \\frac{1}{144}$"
      ],
      "text/plain": [
       "    4        4        4        3        3        3          2          2      \n",
       "  c₁ ⋅γ₁   c₁ ⋅γ₃   c₁ ⋅γ₄   c₁ ⋅γ₁   c₁ ⋅γ₃   c₁ ⋅γ₄   5⋅c₁ ⋅γ₁   5⋅c₁ ⋅γ₃   \n",
       "- ────── - ────── - ────── + ────── + ────── + ────── - ──────── - ──────── - \n",
       "    12       12       12       6        6        6         48         48      \n",
       "\n",
       "    2                                 \n",
       "5⋅c₁ ⋅γ₄   c₁⋅γ₁   c₁⋅γ₃   c₁⋅γ₄    1 \n",
       "──────── + ───── + ───── + ───── + ───\n",
       "   48        48      48      48    144"
      ]
     },
     "execution_count": 151,
     "metadata": {},
     "output_type": "execute_result"
    }
   ],
   "source": [
    "# integrate(integrate(integrate(integrate(sum(sum(sum(sum(B(i,τ)*A(i,c[i],j,σ)*A(j,c[j],k,ξ)*A(k,c[k],l,ζ)*c[l] for i in idxset) for j in idxset) for k in idxset) for l in idxset),(τ,0,1)),(σ,0,1)),(ξ,0,1)),(ζ,0,1))\n",
    "simplify(sum(integrate(sum(integrate(sum(integrate(sum(integrate(B(i,τ),(τ,0,1))*A(i,c[i],j,σ) for i in idxset),(σ,0,1))*A(j,c[j],k,ξ) for j in idxset),(ξ,0,1))*A(k,c[k],l,ζ) for k in idxset),(ζ,0,1))*c[l] for l in idxset))"
   ]
  },
  {
   "cell_type": "code",
   "execution_count": null,
   "id": "85100554-3ca3-47c7-be8c-41b176b39338",
   "metadata": {},
   "outputs": [],
   "source": []
  }
 ],
 "metadata": {
  "kernelspec": {
   "display_name": "Julia 1.8.2",
   "language": "julia",
   "name": "julia-1.8"
  },
  "language_info": {
   "file_extension": ".jl",
   "mimetype": "application/julia",
   "name": "julia",
   "version": "1.8.2"
  }
 },
 "nbformat": 4,
 "nbformat_minor": 5
}
